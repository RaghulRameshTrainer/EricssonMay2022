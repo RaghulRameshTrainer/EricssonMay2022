{
 "cells": [
  {
   "cell_type": "code",
   "execution_count": 1,
   "id": "31726051",
   "metadata": {
    "collapsed": true
   },
   "outputs": [
    {
     "ename": "SyntaxError",
     "evalue": "invalid syntax (2852461448.py, line 2)",
     "output_type": "error",
     "traceback": [
      "\u001b[1;36m  Input \u001b[1;32mIn [1]\u001b[1;36m\u001b[0m\n\u001b[1;33m    Data analytics (AIML,DL,NLP) (2010+)\u001b[0m\n\u001b[1;37m         ^\u001b[0m\n\u001b[1;31mSyntaxError\u001b[0m\u001b[1;31m:\u001b[0m invalid syntax\n"
     ]
    }
   ],
   "source": [
    "'''\n",
    "Automation\n",
    "Data analytics (AIML,DL,NLP) (2010+)\n",
    "Data Engineering (Hadoop, Spark)\n",
    "IOT\n",
    "Cloud Services (AWS, GCP, AZURE)\n",
    "DevOps ( GitHub, Docker...)\n",
    "Web Devlopment (Django, Flask)\n",
    "\n",
    "PYTHON IS\n",
    "   Easy to learn\n",
    "   Easy to understand, work ,manage, maintain, debug\n",
    "''''''"
   ]
  },
  {
   "cell_type": "markdown",
   "id": "aec8fecb",
   "metadata": {},
   "source": [
    "# Conditional Stemenets"
   ]
  },
  {
   "cell_type": "code",
   "execution_count": null,
   "id": "0ae607cd",
   "metadata": {},
   "outputs": [],
   "source": [
    "'''\n",
    "Syntax\n",
    "\n",
    "if (condition)\n",
    "{\n",
    "    statement1\n",
    "    starement2\n",
    "    .\n",
    "    .\n",
    "    .\n",
    "    statementn\n",
    "}\n",
    "else\n",
    "{\n",
    "    false statement\n",
    "}\n",
    "\n",
    "\n",
    "if condition:\n",
    "    statement1\n",
    "    statement2\n",
    "    .\n",
    "    .\n",
    "    .\n",
    "    statementn\n",
    "else:\n",
    "    false statements\n",
    " '''   "
   ]
  },
  {
   "cell_type": "code",
   "execution_count": 2,
   "id": "93165b8f",
   "metadata": {},
   "outputs": [
    {
     "name": "stdout",
     "output_type": "stream",
     "text": [
      "x is 10\n"
     ]
    }
   ],
   "source": [
    "x=10\n",
    "\n",
    "if x==10:\n",
    "    print(\"x is 10\")\n",
    "else:\n",
    "    print(\"The value of x has been changed\")"
   ]
  },
  {
   "cell_type": "code",
   "execution_count": 7,
   "id": "2fd786b1",
   "metadata": {},
   "outputs": [
    {
     "name": "stdout",
     "output_type": "stream",
     "text": [
      "it is negative value!\n"
     ]
    }
   ],
   "source": [
    "x=-10\n",
    "\n",
    "if x==10:\n",
    "    print(\"x is 10\")\n",
    "elif x==100:\n",
    "    print(\"x is 100\")\n",
    "elif x<0:\n",
    "    print(\"it is negative value!\")\n",
    "else:\n",
    "    print(\"The value of x has been changed\")"
   ]
  },
  {
   "cell_type": "code",
   "execution_count": 12,
   "id": "ccc72850",
   "metadata": {},
   "outputs": [
    {
     "name": "stdout",
     "output_type": "stream",
     "text": [
      "Enter your name:Raghul Ramesh\n",
      "Name: Raghul Ramesh\n",
      "Enter your age:37\n",
      "Age is : 38\n"
     ]
    }
   ],
   "source": [
    "#input function (scanf)\n",
    "name=input(\"Enter your name:\")\n",
    "print(\"Name:\",name)\n",
    "\n",
    "age=int(input(\"Enter your age:\"))\n",
    "age = age+1\n",
    "print(\"Age is :\",age)"
   ]
  },
  {
   "cell_type": "code",
   "execution_count": 23,
   "id": "27423bbd",
   "metadata": {},
   "outputs": [
    {
     "name": "stdout",
     "output_type": "stream",
     "text": [
      "Enter your country name:InDiA\n",
      "Enter your age:33\n",
      "You can vote.\n"
     ]
    }
   ],
   "source": [
    "#NESTED IF\n",
    "\n",
    "country=input(\"Enter your country name:\")\n",
    "age=int(input(\"Enter your age:\"))\n",
    "\n",
    "if country.casefold() == \"india\":\n",
    "    if age >= 18:\n",
    "        print(\"You can vote.\")\n",
    "    else:\n",
    "        print(\"You can't vote \")\n",
    "else:\n",
    "    print(\"Please follow your country : {} standard\".format(country))"
   ]
  },
  {
   "cell_type": "code",
   "execution_count": 31,
   "id": "717150db",
   "metadata": {},
   "outputs": [
    {
     "name": "stdout",
     "output_type": "stream",
     "text": [
      "x and y are positive value and x is smaller than y \n"
     ]
    }
   ],
   "source": [
    "x=10\n",
    "y=20\n",
    "res=x-y\n",
    "if x>0 and y>0 and res < 0:\n",
    "    print(\"x and y are positive value and x is smaller than y \".format(x,y))\n",
    "elif x>0 or y>0:\n",
    "    print(\"either x or y is greater than zero. {},{}\".format(x,y))\n",
    "else:\n",
    "    print(\"Both x and y are negative \",(x,y))"
   ]
  },
  {
   "cell_type": "markdown",
   "id": "8f231e89",
   "metadata": {},
   "source": [
    "###### LOOPS"
   ]
  },
  {
   "cell_type": "code",
   "execution_count": 32,
   "id": "f34828a2",
   "metadata": {},
   "outputs": [
    {
     "name": "stdout",
     "output_type": "stream",
     "text": [
      "0\n",
      "1\n",
      "2\n",
      "3\n",
      "4\n",
      "5\n",
      "6\n",
      "7\n",
      "8\n",
      "9\n",
      "10\n",
      "The current value of x is: 11\n"
     ]
    }
   ],
   "source": [
    "#While and For Loop# Pycharm\n",
    "\n",
    "x=0\n",
    "\n",
    "while x<=10:\n",
    "    print(x)\n",
    "    x=x+1\n",
    "else:\n",
    "    print(\"The current value of x is:\",x)\n"
   ]
  },
  {
   "cell_type": "code",
   "execution_count": 33,
   "id": "d5cc8cb9",
   "metadata": {},
   "outputs": [
    {
     "name": "stdout",
     "output_type": "stream",
     "text": [
      "Raghul Ramesh\n",
      "37\n",
      "False\n",
      "Python\n"
     ]
    }
   ],
   "source": [
    "info=['Raghul Ramesh',37, False, 'Python']\n",
    "for x in info:\n",
    "    print(x)"
   ]
  },
  {
   "cell_type": "code",
   "execution_count": 34,
   "id": "afb5479a",
   "metadata": {},
   "outputs": [
    {
     "name": "stdout",
     "output_type": "stream",
     "text": [
      "0\n",
      "1\n",
      "2\n",
      "3\n",
      "4\n",
      "5\n",
      "6\n",
      "7\n",
      "8\n",
      "9\n",
      "10\n"
     ]
    }
   ],
   "source": [
    "x=0\n",
    "\n",
    "while x<=10:\n",
    "    print(x)\n",
    "    x+=1    #x=x+1   x-=1"
   ]
  },
  {
   "cell_type": "code",
   "execution_count": 40,
   "id": "2293c4fb",
   "metadata": {},
   "outputs": [
    {
     "name": "stdout",
     "output_type": "stream",
     "text": [
      "0\n",
      "1\n",
      "2\n",
      "3\n",
      "4\n",
      "I am a new line and not part of the loop\n"
     ]
    }
   ],
   "source": [
    "x=0\n",
    "\n",
    "while x<=10:\n",
    "    if x==5:\n",
    "        break\n",
    "    print(x)\n",
    "    x+=1 \n",
    "    \n",
    "print('I am a new line and not part of the loop')"
   ]
  },
  {
   "cell_type": "code",
   "execution_count": 38,
   "id": "e3bd572c",
   "metadata": {},
   "outputs": [
    {
     "name": "stdout",
     "output_type": "stream",
     "text": [
      "1\n",
      "2\n",
      "3\n",
      "4\n",
      "6\n",
      "7\n",
      "8\n",
      "9\n",
      "10\n",
      "11\n",
      "The current value of x is : 11\n",
      "I am a new line and not part of the loop\n"
     ]
    }
   ],
   "source": [
    "x=0\n",
    "\n",
    "while x<=10:\n",
    "    x+=1\n",
    "    if x==5:\n",
    "        continue\n",
    "    print(x)  #1,2,3,4,6,7,8,9,10,11\n",
    "else:\n",
    "    print(\"The current value of x is :\",x)\n",
    "    \n",
    "print('I am a new line and not part of the loop')"
   ]
  },
  {
   "cell_type": "markdown",
   "id": "20ab2197",
   "metadata": {},
   "source": [
    "# DATA STRUCTURE"
   ]
  },
  {
   "cell_type": "code",
   "execution_count": null,
   "id": "850f03f9",
   "metadata": {},
   "outputs": [],
   "source": [
    "'''\n",
    "-- Immutable\n",
    "    - Numbers\n",
    "    - String\n",
    "    - Tuple\n",
    "-- Mutable\n",
    "    - List\n",
    "    - Dictonary\n",
    "    - Set\n",
    "'''"
   ]
  },
  {
   "cell_type": "code",
   "execution_count": 42,
   "id": "b6e6db18",
   "metadata": {},
   "outputs": [
    {
     "data": {
      "text/plain": [
       "' Numbers\\n    - Arithmetic Operators\\n    - Assignment\\n    - Comparison\\n    - Logical\\n    - Identity\\n    - Membership'"
      ]
     },
     "execution_count": 42,
     "metadata": {},
     "output_type": "execute_result"
    }
   ],
   "source": [
    "''' Numbers\n",
    "    - Arithmetic Operators\n",
    "    - Assignment\n",
    "    - Comparison\n",
    "    - Logical\n",
    "    - Identity\n",
    "    - Membership'''"
   ]
  },
  {
   "cell_type": "code",
   "execution_count": 43,
   "id": "b3959903",
   "metadata": {},
   "outputs": [
    {
     "data": {
      "text/plain": [
       "11"
      ]
     },
     "execution_count": 43,
     "metadata": {},
     "output_type": "execute_result"
    }
   ],
   "source": [
    "#Arithmetic\n",
    "\n",
    "5+6"
   ]
  },
  {
   "cell_type": "code",
   "execution_count": 44,
   "id": "299577bb",
   "metadata": {},
   "outputs": [
    {
     "data": {
      "text/plain": [
       "-1"
      ]
     },
     "execution_count": 44,
     "metadata": {},
     "output_type": "execute_result"
    }
   ],
   "source": [
    "5-6"
   ]
  },
  {
   "cell_type": "code",
   "execution_count": 45,
   "id": "10740583",
   "metadata": {},
   "outputs": [
    {
     "data": {
      "text/plain": [
       "30"
      ]
     },
     "execution_count": 45,
     "metadata": {},
     "output_type": "execute_result"
    }
   ],
   "source": [
    "5*6"
   ]
  },
  {
   "cell_type": "code",
   "execution_count": 46,
   "id": "28509c11",
   "metadata": {},
   "outputs": [
    {
     "data": {
      "text/plain": [
       "0.8333333333333334"
      ]
     },
     "execution_count": 46,
     "metadata": {},
     "output_type": "execute_result"
    }
   ],
   "source": [
    "5/6"
   ]
  },
  {
   "cell_type": "code",
   "execution_count": 47,
   "id": "14d9f743",
   "metadata": {},
   "outputs": [
    {
     "data": {
      "text/plain": [
       "25"
      ]
     },
     "execution_count": 47,
     "metadata": {},
     "output_type": "execute_result"
    }
   ],
   "source": [
    "5**2"
   ]
  },
  {
   "cell_type": "code",
   "execution_count": 48,
   "id": "c7c0246c",
   "metadata": {},
   "outputs": [
    {
     "data": {
      "text/plain": [
       "1"
      ]
     },
     "execution_count": 48,
     "metadata": {},
     "output_type": "execute_result"
    }
   ],
   "source": [
    "5%2   # Modulus operator returns the reminder"
   ]
  },
  {
   "cell_type": "code",
   "execution_count": 50,
   "id": "0ee7985d",
   "metadata": {},
   "outputs": [
    {
     "data": {
      "text/plain": [
       "5"
      ]
     },
     "execution_count": 50,
     "metadata": {},
     "output_type": "execute_result"
    }
   ],
   "source": [
    "11//2   # Floor Division - return the quotient value"
   ]
  },
  {
   "cell_type": "code",
   "execution_count": 51,
   "id": "f4a72c25",
   "metadata": {},
   "outputs": [
    {
     "data": {
      "text/plain": [
       "10"
      ]
     },
     "execution_count": 51,
     "metadata": {},
     "output_type": "execute_result"
    }
   ],
   "source": [
    "# Assignment\n",
    "\n",
    "x=10\n",
    "x"
   ]
  },
  {
   "cell_type": "code",
   "execution_count": 52,
   "id": "28bb700f",
   "metadata": {},
   "outputs": [
    {
     "data": {
      "text/plain": [
       "15"
      ]
     },
     "execution_count": 52,
     "metadata": {},
     "output_type": "execute_result"
    }
   ],
   "source": [
    "y=x+5\n",
    "y"
   ]
  },
  {
   "cell_type": "code",
   "execution_count": 54,
   "id": "5850d65e",
   "metadata": {},
   "outputs": [
    {
     "data": {
      "text/plain": [
       "True"
      ]
     },
     "execution_count": 54,
     "metadata": {},
     "output_type": "execute_result"
    }
   ],
   "source": [
    "x==10"
   ]
  },
  {
   "cell_type": "code",
   "execution_count": 55,
   "id": "bc06f408",
   "metadata": {},
   "outputs": [
    {
     "data": {
      "text/plain": [
       "False"
      ]
     },
     "execution_count": 55,
     "metadata": {},
     "output_type": "execute_result"
    }
   ],
   "source": [
    "x==100"
   ]
  },
  {
   "cell_type": "code",
   "execution_count": 56,
   "id": "45cb6650",
   "metadata": {},
   "outputs": [
    {
     "data": {
      "text/plain": [
       "True"
      ]
     },
     "execution_count": 56,
     "metadata": {},
     "output_type": "execute_result"
    }
   ],
   "source": [
    "x!=100"
   ]
  },
  {
   "cell_type": "code",
   "execution_count": 57,
   "id": "96bf6350",
   "metadata": {},
   "outputs": [
    {
     "data": {
      "text/plain": [
       "True"
      ]
     },
     "execution_count": 57,
     "metadata": {},
     "output_type": "execute_result"
    }
   ],
   "source": [
    "x>0"
   ]
  },
  {
   "cell_type": "code",
   "execution_count": 58,
   "id": "e52c431e",
   "metadata": {},
   "outputs": [
    {
     "data": {
      "text/plain": [
       "False"
      ]
     },
     "execution_count": 58,
     "metadata": {},
     "output_type": "execute_result"
    }
   ],
   "source": [
    "x<0"
   ]
  },
  {
   "cell_type": "code",
   "execution_count": 59,
   "id": "23e36634",
   "metadata": {},
   "outputs": [
    {
     "data": {
      "text/plain": [
       "3"
      ]
     },
     "execution_count": 59,
     "metadata": {},
     "output_type": "execute_result"
    }
   ],
   "source": [
    "# Logical operators -> and or not\n",
    "\n",
    "2 and 3"
   ]
  },
  {
   "cell_type": "code",
   "execution_count": 60,
   "id": "0f0d9779",
   "metadata": {},
   "outputs": [
    {
     "data": {
      "text/plain": [
       "2"
      ]
     },
     "execution_count": 60,
     "metadata": {},
     "output_type": "execute_result"
    }
   ],
   "source": [
    "2 or 3"
   ]
  },
  {
   "cell_type": "code",
   "execution_count": 62,
   "id": "275aae7b",
   "metadata": {},
   "outputs": [
    {
     "data": {
      "text/plain": [
       "3"
      ]
     },
     "execution_count": 62,
     "metadata": {},
     "output_type": "execute_result"
    }
   ],
   "source": [
    "0 or 3"
   ]
  },
  {
   "cell_type": "code",
   "execution_count": 63,
   "id": "defcbec1",
   "metadata": {},
   "outputs": [
    {
     "data": {
      "text/plain": [
       "False"
      ]
     },
     "execution_count": 63,
     "metadata": {},
     "output_type": "execute_result"
    }
   ],
   "source": [
    "not 1"
   ]
  },
  {
   "cell_type": "code",
   "execution_count": 64,
   "id": "129b1cd0",
   "metadata": {},
   "outputs": [
    {
     "data": {
      "text/plain": [
       "True"
      ]
     },
     "execution_count": 64,
     "metadata": {},
     "output_type": "execute_result"
    }
   ],
   "source": [
    "not 0"
   ]
  },
  {
   "cell_type": "code",
   "execution_count": 65,
   "id": "a3e92bd7",
   "metadata": {},
   "outputs": [
    {
     "data": {
      "text/plain": [
       "10"
      ]
     },
     "execution_count": 65,
     "metadata": {},
     "output_type": "execute_result"
    }
   ],
   "source": [
    "x"
   ]
  },
  {
   "cell_type": "code",
   "execution_count": 66,
   "id": "ab07a3de",
   "metadata": {},
   "outputs": [
    {
     "data": {
      "text/plain": [
       "True"
      ]
     },
     "execution_count": 66,
     "metadata": {},
     "output_type": "execute_result"
    }
   ],
   "source": [
    "x == 10"
   ]
  },
  {
   "cell_type": "code",
   "execution_count": 67,
   "id": "eaef451f",
   "metadata": {
    "scrolled": true
   },
   "outputs": [
    {
     "name": "stderr",
     "output_type": "stream",
     "text": [
      "<>:3: SyntaxWarning: \"is\" with a literal. Did you mean \"==\"?\n",
      "<>:3: SyntaxWarning: \"is\" with a literal. Did you mean \"==\"?\n",
      "C:\\Users\\RaghulRamesh\\AppData\\Local\\Temp\\ipykernel_17520\\219173530.py:3: SyntaxWarning: \"is\" with a literal. Did you mean \"==\"?\n",
      "  x is 10\n"
     ]
    },
    {
     "data": {
      "text/plain": [
       "True"
      ]
     },
     "execution_count": 67,
     "metadata": {},
     "output_type": "execute_result"
    }
   ],
   "source": [
    "# identity opeator  => is , is not\n",
    "\n",
    "x is 10"
   ]
  },
  {
   "cell_type": "code",
   "execution_count": 68,
   "id": "237d27fb",
   "metadata": {},
   "outputs": [
    {
     "name": "stderr",
     "output_type": "stream",
     "text": [
      "<>:1: SyntaxWarning: \"is not\" with a literal. Did you mean \"!=\"?\n",
      "<>:1: SyntaxWarning: \"is not\" with a literal. Did you mean \"!=\"?\n",
      "C:\\Users\\RaghulRamesh\\AppData\\Local\\Temp\\ipykernel_17520\\1660080432.py:1: SyntaxWarning: \"is not\" with a literal. Did you mean \"!=\"?\n",
      "  x is not 10\n"
     ]
    },
    {
     "data": {
      "text/plain": [
       "False"
      ]
     },
     "execution_count": 68,
     "metadata": {},
     "output_type": "execute_result"
    }
   ],
   "source": [
    "x is not 10"
   ]
  },
  {
   "cell_type": "code",
   "execution_count": 69,
   "id": "a6865d5d",
   "metadata": {},
   "outputs": [
    {
     "name": "stderr",
     "output_type": "stream",
     "text": [
      "<>:1: SyntaxWarning: \"is not\" with a literal. Did you mean \"!=\"?\n",
      "<>:1: SyntaxWarning: \"is not\" with a literal. Did you mean \"!=\"?\n",
      "C:\\Users\\RaghulRamesh\\AppData\\Local\\Temp\\ipykernel_17520\\3306646882.py:1: SyntaxWarning: \"is not\" with a literal. Did you mean \"!=\"?\n",
      "  x is not 0\n"
     ]
    },
    {
     "data": {
      "text/plain": [
       "True"
      ]
     },
     "execution_count": 69,
     "metadata": {},
     "output_type": "execute_result"
    }
   ],
   "source": [
    "x is not 0"
   ]
  },
  {
   "cell_type": "code",
   "execution_count": 70,
   "id": "cd34b04b",
   "metadata": {},
   "outputs": [
    {
     "name": "stderr",
     "output_type": "stream",
     "text": [
      "<>:1: SyntaxWarning: \"is not\" with a literal. Did you mean \"!=\"?\n",
      "<>:1: SyntaxWarning: \"is not\" with a literal. Did you mean \"!=\"?\n",
      "C:\\Users\\RaghulRamesh\\AppData\\Local\\Temp\\ipykernel_17520\\3353227321.py:1: SyntaxWarning: \"is not\" with a literal. Did you mean \"!=\"?\n",
      "  x is not 200\n"
     ]
    },
    {
     "data": {
      "text/plain": [
       "True"
      ]
     },
     "execution_count": 70,
     "metadata": {},
     "output_type": "execute_result"
    }
   ],
   "source": [
    "x is not 200"
   ]
  },
  {
   "cell_type": "code",
   "execution_count": 71,
   "id": "25bc0f64",
   "metadata": {},
   "outputs": [
    {
     "data": {
      "text/plain": [
       "False"
      ]
     },
     "execution_count": 71,
     "metadata": {},
     "output_type": "execute_result"
    }
   ],
   "source": [
    "x==100"
   ]
  },
  {
   "cell_type": "code",
   "execution_count": 72,
   "id": "029e5a7f",
   "metadata": {},
   "outputs": [
    {
     "name": "stderr",
     "output_type": "stream",
     "text": [
      "<>:1: SyntaxWarning: \"is\" with a literal. Did you mean \"==\"?\n",
      "<>:1: SyntaxWarning: \"is\" with a literal. Did you mean \"==\"?\n",
      "C:\\Users\\RaghulRamesh\\AppData\\Local\\Temp\\ipykernel_17520\\1069372017.py:1: SyntaxWarning: \"is\" with a literal. Did you mean \"==\"?\n",
      "  x is 100\n"
     ]
    },
    {
     "data": {
      "text/plain": [
       "False"
      ]
     },
     "execution_count": 72,
     "metadata": {},
     "output_type": "execute_result"
    }
   ],
   "source": [
    "x is 100"
   ]
  },
  {
   "cell_type": "code",
   "execution_count": 73,
   "id": "89070d6e",
   "metadata": {},
   "outputs": [
    {
     "data": {
      "text/plain": [
       "True"
      ]
     },
     "execution_count": 73,
     "metadata": {},
     "output_type": "execute_result"
    }
   ],
   "source": [
    "#Membership operator => in, not in\n",
    "\n",
    "x=[1,2,3,4,5,67,8,9,90,4,653,3563,6522]\n",
    "\n",
    "90 in x"
   ]
  },
  {
   "cell_type": "code",
   "execution_count": 74,
   "id": "4c871d98",
   "metadata": {},
   "outputs": [
    {
     "data": {
      "text/plain": [
       "False"
      ]
     },
     "execution_count": 74,
     "metadata": {},
     "output_type": "execute_result"
    }
   ],
   "source": [
    "100 in x"
   ]
  },
  {
   "cell_type": "code",
   "execution_count": 75,
   "id": "8d22814b",
   "metadata": {},
   "outputs": [
    {
     "data": {
      "text/plain": [
       "True"
      ]
     },
     "execution_count": 75,
     "metadata": {},
     "output_type": "execute_result"
    }
   ],
   "source": [
    "100 not in x"
   ]
  },
  {
   "cell_type": "markdown",
   "id": "c65ef2ed",
   "metadata": {},
   "source": [
    "# STRINGS"
   ]
  },
  {
   "cell_type": "code",
   "execution_count": 76,
   "id": "ef62dee5",
   "metadata": {},
   "outputs": [],
   "source": [
    "name=\"Raghul Ramesh\""
   ]
  },
  {
   "cell_type": "code",
   "execution_count": 77,
   "id": "86bc48b1",
   "metadata": {},
   "outputs": [
    {
     "data": {
      "text/plain": [
       "'Raghul Ramesh'"
      ]
     },
     "execution_count": 77,
     "metadata": {},
     "output_type": "execute_result"
    }
   ],
   "source": [
    "name"
   ]
  },
  {
   "cell_type": "code",
   "execution_count": 78,
   "id": "14de1308",
   "metadata": {},
   "outputs": [
    {
     "data": {
      "text/plain": [
       "'R'"
      ]
     },
     "execution_count": 78,
     "metadata": {},
     "output_type": "execute_result"
    }
   ],
   "source": [
    "name[0]"
   ]
  },
  {
   "cell_type": "code",
   "execution_count": 79,
   "id": "213a33e7",
   "metadata": {},
   "outputs": [
    {
     "data": {
      "text/plain": [
       "'a'"
      ]
     },
     "execution_count": 79,
     "metadata": {},
     "output_type": "execute_result"
    }
   ],
   "source": [
    "name[1]"
   ]
  },
  {
   "cell_type": "code",
   "execution_count": 80,
   "id": "b6e091d2",
   "metadata": {},
   "outputs": [
    {
     "data": {
      "text/plain": [
       "'g'"
      ]
     },
     "execution_count": 80,
     "metadata": {},
     "output_type": "execute_result"
    }
   ],
   "source": [
    "name[2]"
   ]
  },
  {
   "cell_type": "code",
   "execution_count": 81,
   "id": "9178829f",
   "metadata": {},
   "outputs": [
    {
     "data": {
      "text/plain": [
       "'Raghul Ramesh'"
      ]
     },
     "execution_count": 81,
     "metadata": {},
     "output_type": "execute_result"
    }
   ],
   "source": [
    "name"
   ]
  },
  {
   "cell_type": "code",
   "execution_count": 83,
   "id": "eb280f8b",
   "metadata": {},
   "outputs": [
    {
     "data": {
      "text/plain": [
       "'e'"
      ]
     },
     "execution_count": 83,
     "metadata": {},
     "output_type": "execute_result"
    }
   ],
   "source": [
    "name[10]"
   ]
  },
  {
   "cell_type": "code",
   "execution_count": 84,
   "id": "b473c695",
   "metadata": {},
   "outputs": [
    {
     "data": {
      "text/plain": [
       "'h'"
      ]
     },
     "execution_count": 84,
     "metadata": {},
     "output_type": "execute_result"
    }
   ],
   "source": [
    "name[-1]"
   ]
  },
  {
   "cell_type": "code",
   "execution_count": 85,
   "id": "db39a99d",
   "metadata": {},
   "outputs": [
    {
     "data": {
      "text/plain": [
       "'s'"
      ]
     },
     "execution_count": 85,
     "metadata": {},
     "output_type": "execute_result"
    }
   ],
   "source": [
    "name[-2]"
   ]
  },
  {
   "cell_type": "code",
   "execution_count": 86,
   "id": "7d2e9988",
   "metadata": {},
   "outputs": [
    {
     "data": {
      "text/plain": [
       "'Raghul Ramesh'"
      ]
     },
     "execution_count": 86,
     "metadata": {},
     "output_type": "execute_result"
    }
   ],
   "source": [
    "name"
   ]
  },
  {
   "cell_type": "code",
   "execution_count": 88,
   "id": "2fadb1d2",
   "metadata": {},
   "outputs": [
    {
     "data": {
      "text/plain": [
       "'Raghul'"
      ]
     },
     "execution_count": 88,
     "metadata": {},
     "output_type": "execute_result"
    }
   ],
   "source": [
    "name[0:6]"
   ]
  },
  {
   "cell_type": "code",
   "execution_count": 89,
   "id": "96b72c8b",
   "metadata": {},
   "outputs": [
    {
     "data": {
      "text/plain": [
       "'Ramesh'"
      ]
     },
     "execution_count": 89,
     "metadata": {},
     "output_type": "execute_result"
    }
   ],
   "source": [
    "name[7:13]"
   ]
  },
  {
   "cell_type": "code",
   "execution_count": 90,
   "id": "ef23160c",
   "metadata": {},
   "outputs": [
    {
     "data": {
      "text/plain": [
       "'Raghul'"
      ]
     },
     "execution_count": 90,
     "metadata": {},
     "output_type": "execute_result"
    }
   ],
   "source": [
    "name[:6]"
   ]
  },
  {
   "cell_type": "code",
   "execution_count": 91,
   "id": "6f4db340",
   "metadata": {},
   "outputs": [
    {
     "data": {
      "text/plain": [
       "'Ramesh'"
      ]
     },
     "execution_count": 91,
     "metadata": {},
     "output_type": "execute_result"
    }
   ],
   "source": [
    "name[7:]"
   ]
  },
  {
   "cell_type": "code",
   "execution_count": 92,
   "id": "1b35b17f",
   "metadata": {},
   "outputs": [
    {
     "data": {
      "text/plain": [
       "'Raghul Ramesh'"
      ]
     },
     "execution_count": 92,
     "metadata": {},
     "output_type": "execute_result"
    }
   ],
   "source": [
    "name"
   ]
  },
  {
   "cell_type": "code",
   "execution_count": 93,
   "id": "ce2c84e2",
   "metadata": {},
   "outputs": [
    {
     "data": {
      "text/plain": [
       "'Ramesh'"
      ]
     },
     "execution_count": 93,
     "metadata": {},
     "output_type": "execute_result"
    }
   ],
   "source": [
    "name[-6:]"
   ]
  },
  {
   "cell_type": "code",
   "execution_count": 94,
   "id": "8962df26",
   "metadata": {},
   "outputs": [
    {
     "data": {
      "text/plain": [
       "'Ram'"
      ]
     },
     "execution_count": 94,
     "metadata": {},
     "output_type": "execute_result"
    }
   ],
   "source": [
    "name[-6:-3]"
   ]
  },
  {
   "cell_type": "code",
   "execution_count": 98,
   "id": "987dbd1f",
   "metadata": {},
   "outputs": [
    {
     "name": "stdout",
     "output_type": "stream",
     "text": [
      "['__add__', '__class__', '__contains__', '__delattr__', '__dir__', '__doc__', '__eq__', '__format__', '__ge__', '__getattribute__', '__getitem__', '__getnewargs__', '__gt__', '__hash__', '__init__', '__init_subclass__', '__iter__', '__le__', '__len__', '__lt__', '__mod__', '__mul__', '__ne__', '__new__', '__reduce__', '__reduce_ex__', '__repr__', '__rmod__', '__rmul__', '__setattr__', '__sizeof__', '__str__', '__subclasshook__', 'capitalize', 'casefold', 'center', 'count', 'encode', 'endswith', 'expandtabs', 'find', 'format', 'format_map', 'index', 'isalnum', 'isalpha', 'isascii', 'isdecimal', 'isdigit', 'isidentifier', 'islower', 'isnumeric', 'isprintable', 'isspace', 'istitle', 'isupper', 'join', 'ljust', 'lower', 'lstrip', 'maketrans', 'partition', 'replace', 'rfind', 'rindex', 'rjust', 'rpartition', 'rsplit', 'rstrip', 'split', 'splitlines', 'startswith', 'strip', 'swapcase', 'title', 'translate', 'upper', 'zfill']\n"
     ]
    }
   ],
   "source": [
    "print(dir(name))"
   ]
  },
  {
   "cell_type": "code",
   "execution_count": 99,
   "id": "711230c1",
   "metadata": {},
   "outputs": [],
   "source": [
    "marks=[76,34,76,32,76]"
   ]
  },
  {
   "cell_type": "code",
   "execution_count": 100,
   "id": "bf3934ee",
   "metadata": {},
   "outputs": [],
   "source": [
    "marks.reverse()"
   ]
  },
  {
   "cell_type": "code",
   "execution_count": 101,
   "id": "91153696",
   "metadata": {},
   "outputs": [
    {
     "data": {
      "text/plain": [
       "[76, 32, 76, 34, 76]"
      ]
     },
     "execution_count": 101,
     "metadata": {},
     "output_type": "execute_result"
    }
   ],
   "source": [
    "marks"
   ]
  },
  {
   "cell_type": "code",
   "execution_count": 102,
   "id": "8b66ccce",
   "metadata": {},
   "outputs": [
    {
     "data": {
      "text/plain": [
       "'Raghul Ramesh'"
      ]
     },
     "execution_count": 102,
     "metadata": {},
     "output_type": "execute_result"
    }
   ],
   "source": [
    "name"
   ]
  },
  {
   "cell_type": "code",
   "execution_count": 104,
   "id": "5e40aeba",
   "metadata": {},
   "outputs": [
    {
     "data": {
      "text/plain": [
       "'Rgu aeh'"
      ]
     },
     "execution_count": 104,
     "metadata": {},
     "output_type": "execute_result"
    }
   ],
   "source": [
    "name[::2]"
   ]
  },
  {
   "cell_type": "code",
   "execution_count": 105,
   "id": "24244f1a",
   "metadata": {},
   "outputs": [
    {
     "data": {
      "text/plain": [
       "'Rh mh'"
      ]
     },
     "execution_count": 105,
     "metadata": {},
     "output_type": "execute_result"
    }
   ],
   "source": [
    "name[::3]"
   ]
  },
  {
   "cell_type": "code",
   "execution_count": 106,
   "id": "1dc5d29c",
   "metadata": {},
   "outputs": [
    {
     "data": {
      "text/plain": [
       "'Raghul Ramesh'"
      ]
     },
     "execution_count": 106,
     "metadata": {},
     "output_type": "execute_result"
    }
   ],
   "source": [
    "name[::1]"
   ]
  },
  {
   "cell_type": "code",
   "execution_count": 107,
   "id": "de34c3ea",
   "metadata": {},
   "outputs": [
    {
     "data": {
      "text/plain": [
       "'hsemaR luhgaR'"
      ]
     },
     "execution_count": 107,
     "metadata": {},
     "output_type": "execute_result"
    }
   ],
   "source": [
    "name[::-1]"
   ]
  },
  {
   "cell_type": "code",
   "execution_count": 108,
   "id": "c3863610",
   "metadata": {},
   "outputs": [
    {
     "data": {
      "text/plain": [
       "13"
      ]
     },
     "execution_count": 108,
     "metadata": {},
     "output_type": "execute_result"
    }
   ],
   "source": [
    "len(name)"
   ]
  },
  {
   "cell_type": "code",
   "execution_count": 109,
   "id": "4643c866",
   "metadata": {},
   "outputs": [
    {
     "data": {
      "text/plain": [
       "'Raghul Ramesh'"
      ]
     },
     "execution_count": 109,
     "metadata": {},
     "output_type": "execute_result"
    }
   ],
   "source": [
    "name"
   ]
  },
  {
   "cell_type": "code",
   "execution_count": 110,
   "id": "5cd9926d",
   "metadata": {},
   "outputs": [
    {
     "data": {
      "text/plain": [
       "True"
      ]
     },
     "execution_count": 110,
     "metadata": {},
     "output_type": "execute_result"
    }
   ],
   "source": [
    "' ' in name"
   ]
  },
  {
   "cell_type": "code",
   "execution_count": 112,
   "id": "5e0c9c42",
   "metadata": {},
   "outputs": [
    {
     "data": {
      "text/plain": [
       "False"
      ]
     },
     "execution_count": 112,
     "metadata": {},
     "output_type": "execute_result"
    }
   ],
   "source": [
    "'z' in name"
   ]
  },
  {
   "cell_type": "code",
   "execution_count": 113,
   "id": "32ff7270",
   "metadata": {},
   "outputs": [
    {
     "data": {
      "text/plain": [
       "True"
      ]
     },
     "execution_count": 113,
     "metadata": {},
     "output_type": "execute_result"
    }
   ],
   "source": [
    "'s' in name"
   ]
  },
  {
   "cell_type": "code",
   "execution_count": 114,
   "id": "00877f05",
   "metadata": {},
   "outputs": [
    {
     "name": "stderr",
     "output_type": "stream",
     "text": [
      "<>:1: SyntaxWarning: \"is\" with a literal. Did you mean \"==\"?\n",
      "<>:1: SyntaxWarning: \"is\" with a literal. Did you mean \"==\"?\n",
      "C:\\Users\\RaghulRamesh\\AppData\\Local\\Temp\\ipykernel_17520\\34292967.py:1: SyntaxWarning: \"is\" with a literal. Did you mean \"==\"?\n",
      "  name is 'Raghul Ramesh'\n"
     ]
    },
    {
     "data": {
      "text/plain": [
       "False"
      ]
     },
     "execution_count": 114,
     "metadata": {},
     "output_type": "execute_result"
    }
   ],
   "source": [
    "name is 'Raghul Ramesh'"
   ]
  },
  {
   "cell_type": "code",
   "execution_count": 115,
   "id": "424edf62",
   "metadata": {},
   "outputs": [
    {
     "data": {
      "text/plain": [
       "'Raghul Ramesh'"
      ]
     },
     "execution_count": 115,
     "metadata": {},
     "output_type": "execute_result"
    }
   ],
   "source": [
    "name"
   ]
  },
  {
   "cell_type": "code",
   "execution_count": 116,
   "id": "298dcaeb",
   "metadata": {},
   "outputs": [
    {
     "name": "stderr",
     "output_type": "stream",
     "text": [
      "<>:1: SyntaxWarning: \"is\" with a literal. Did you mean \"==\"?\n",
      "<>:1: SyntaxWarning: \"is\" with a literal. Did you mean \"==\"?\n",
      "C:\\Users\\RaghulRamesh\\AppData\\Local\\Temp\\ipykernel_17520\\34292967.py:1: SyntaxWarning: \"is\" with a literal. Did you mean \"==\"?\n",
      "  name is 'Raghul Ramesh'\n"
     ]
    },
    {
     "data": {
      "text/plain": [
       "False"
      ]
     },
     "execution_count": 116,
     "metadata": {},
     "output_type": "execute_result"
    }
   ],
   "source": [
    "name is 'Raghul Ramesh'"
   ]
  },
  {
   "cell_type": "code",
   "execution_count": 117,
   "id": "f7a31b23",
   "metadata": {},
   "outputs": [
    {
     "data": {
      "text/plain": [
       "True"
      ]
     },
     "execution_count": 117,
     "metadata": {},
     "output_type": "execute_result"
    }
   ],
   "source": [
    "name == 'Raghul Ramesh'"
   ]
  },
  {
   "cell_type": "code",
   "execution_count": 118,
   "id": "06f6e1c2",
   "metadata": {},
   "outputs": [
    {
     "name": "stdout",
     "output_type": "stream",
     "text": [
      "['__add__', '__class__', '__contains__', '__delattr__', '__dir__', '__doc__', '__eq__', '__format__', '__ge__', '__getattribute__', '__getitem__', '__getnewargs__', '__gt__', '__hash__', '__init__', '__init_subclass__', '__iter__', '__le__', '__len__', '__lt__', '__mod__', '__mul__', '__ne__', '__new__', '__reduce__', '__reduce_ex__', '__repr__', '__rmod__', '__rmul__', '__setattr__', '__sizeof__', '__str__', '__subclasshook__', 'capitalize', 'casefold', 'center', 'count', 'encode', 'endswith', 'expandtabs', 'find', 'format', 'format_map', 'index', 'isalnum', 'isalpha', 'isascii', 'isdecimal', 'isdigit', 'isidentifier', 'islower', 'isnumeric', 'isprintable', 'isspace', 'istitle', 'isupper', 'join', 'ljust', 'lower', 'lstrip', 'maketrans', 'partition', 'replace', 'rfind', 'rindex', 'rjust', 'rpartition', 'rsplit', 'rstrip', 'split', 'splitlines', 'startswith', 'strip', 'swapcase', 'title', 'translate', 'upper', 'zfill']\n"
     ]
    }
   ],
   "source": [
    "print(dir(name))"
   ]
  },
  {
   "cell_type": "code",
   "execution_count": 119,
   "id": "ad578e5b",
   "metadata": {},
   "outputs": [
    {
     "data": {
      "text/plain": [
       "'Raghul Ramesh'"
      ]
     },
     "execution_count": 119,
     "metadata": {},
     "output_type": "execute_result"
    }
   ],
   "source": [
    "name"
   ]
  },
  {
   "cell_type": "code",
   "execution_count": 120,
   "id": "90753958",
   "metadata": {},
   "outputs": [
    {
     "data": {
      "text/plain": [
       "'RAGHUL RAMESH'"
      ]
     },
     "execution_count": 120,
     "metadata": {},
     "output_type": "execute_result"
    }
   ],
   "source": [
    "name.upper()"
   ]
  },
  {
   "cell_type": "code",
   "execution_count": 121,
   "id": "ffbd5627",
   "metadata": {},
   "outputs": [
    {
     "data": {
      "text/plain": [
       "'Raghul Ramesh'"
      ]
     },
     "execution_count": 121,
     "metadata": {},
     "output_type": "execute_result"
    }
   ],
   "source": [
    "name"
   ]
  },
  {
   "cell_type": "code",
   "execution_count": 122,
   "id": "6e5d39bc",
   "metadata": {},
   "outputs": [
    {
     "data": {
      "text/plain": [
       "'raghul ramesh'"
      ]
     },
     "execution_count": 122,
     "metadata": {},
     "output_type": "execute_result"
    }
   ],
   "source": [
    "name.lower()"
   ]
  },
  {
   "cell_type": "code",
   "execution_count": 123,
   "id": "52a2b967",
   "metadata": {},
   "outputs": [
    {
     "data": {
      "text/plain": [
       "'Raghul Ramesh'"
      ]
     },
     "execution_count": 123,
     "metadata": {},
     "output_type": "execute_result"
    }
   ],
   "source": [
    "name"
   ]
  },
  {
   "cell_type": "code",
   "execution_count": 124,
   "id": "b0d5e3b8",
   "metadata": {},
   "outputs": [
    {
     "data": {
      "text/plain": [
       "'raghul ramesh'"
      ]
     },
     "execution_count": 124,
     "metadata": {},
     "output_type": "execute_result"
    }
   ],
   "source": [
    "name.casefold()"
   ]
  },
  {
   "cell_type": "code",
   "execution_count": 126,
   "id": "6d7863db",
   "metadata": {},
   "outputs": [
    {
     "data": {
      "text/plain": [
       "'Raghul Ramesh'"
      ]
     },
     "execution_count": 126,
     "metadata": {},
     "output_type": "execute_result"
    }
   ],
   "source": [
    "name.title()"
   ]
  },
  {
   "cell_type": "code",
   "execution_count": 127,
   "id": "80b1068a",
   "metadata": {},
   "outputs": [],
   "source": [
    "tech=\"python automation\""
   ]
  },
  {
   "cell_type": "code",
   "execution_count": 128,
   "id": "2617fc87",
   "metadata": {},
   "outputs": [
    {
     "data": {
      "text/plain": [
       "'Python Automation'"
      ]
     },
     "execution_count": 128,
     "metadata": {},
     "output_type": "execute_result"
    }
   ],
   "source": [
    "tech.title()"
   ]
  },
  {
   "cell_type": "code",
   "execution_count": 129,
   "id": "c98d865f",
   "metadata": {},
   "outputs": [
    {
     "data": {
      "text/plain": [
       "'Python automation'"
      ]
     },
     "execution_count": 129,
     "metadata": {},
     "output_type": "execute_result"
    }
   ],
   "source": [
    "tech.capitalize()"
   ]
  },
  {
   "cell_type": "code",
   "execution_count": 130,
   "id": "61671cb1",
   "metadata": {},
   "outputs": [
    {
     "data": {
      "text/plain": [
       "'Raghul Ramesh'"
      ]
     },
     "execution_count": 130,
     "metadata": {},
     "output_type": "execute_result"
    }
   ],
   "source": [
    "name"
   ]
  },
  {
   "cell_type": "code",
   "execution_count": 131,
   "id": "46bbed75",
   "metadata": {},
   "outputs": [
    {
     "data": {
      "text/plain": [
       "'Raghul ramesh'"
      ]
     },
     "execution_count": 131,
     "metadata": {},
     "output_type": "execute_result"
    }
   ],
   "source": [
    "name.capitalize()"
   ]
  },
  {
   "cell_type": "code",
   "execution_count": 132,
   "id": "b17d0001",
   "metadata": {},
   "outputs": [
    {
     "data": {
      "text/plain": [
       "'rAGHUL rAMESH'"
      ]
     },
     "execution_count": 132,
     "metadata": {},
     "output_type": "execute_result"
    }
   ],
   "source": [
    "name.swapcase()"
   ]
  },
  {
   "cell_type": "code",
   "execution_count": 133,
   "id": "d7da16c6",
   "metadata": {},
   "outputs": [
    {
     "data": {
      "text/plain": [
       "'Raghul Ramesh'"
      ]
     },
     "execution_count": 133,
     "metadata": {},
     "output_type": "execute_result"
    }
   ],
   "source": [
    "name"
   ]
  },
  {
   "cell_type": "code",
   "execution_count": 134,
   "id": "4dd3cf23",
   "metadata": {},
   "outputs": [
    {
     "data": {
      "text/plain": [
       "'                  Raghul Ramesh                   '"
      ]
     },
     "execution_count": 134,
     "metadata": {},
     "output_type": "execute_result"
    }
   ],
   "source": [
    "name.center(50)"
   ]
  },
  {
   "cell_type": "code",
   "execution_count": 135,
   "id": "8f5bb62f",
   "metadata": {},
   "outputs": [
    {
     "data": {
      "text/plain": [
       "'******************Raghul Ramesh*******************'"
      ]
     },
     "execution_count": 135,
     "metadata": {},
     "output_type": "execute_result"
    }
   ],
   "source": [
    "name.center(50,'*')"
   ]
  },
  {
   "cell_type": "code",
   "execution_count": 136,
   "id": "8c3db0fa",
   "metadata": {},
   "outputs": [
    {
     "data": {
      "text/plain": [
       "'------------------Raghul Ramesh-------------------'"
      ]
     },
     "execution_count": 136,
     "metadata": {},
     "output_type": "execute_result"
    }
   ],
   "source": [
    "name.center(50,'-')"
   ]
  },
  {
   "cell_type": "code",
   "execution_count": 137,
   "id": "1b09e729",
   "metadata": {},
   "outputs": [
    {
     "data": {
      "text/plain": [
       "'Raghul Ramesh                                     '"
      ]
     },
     "execution_count": 137,
     "metadata": {},
     "output_type": "execute_result"
    }
   ],
   "source": [
    "name.ljust(50)"
   ]
  },
  {
   "cell_type": "code",
   "execution_count": 139,
   "id": "9f465b48",
   "metadata": {},
   "outputs": [
    {
     "data": {
      "text/plain": [
       "'Raghul Ramesh#####################################'"
      ]
     },
     "execution_count": 139,
     "metadata": {},
     "output_type": "execute_result"
    }
   ],
   "source": [
    "name.ljust(50,'#')"
   ]
  },
  {
   "cell_type": "code",
   "execution_count": 140,
   "id": "ce6e2f1b",
   "metadata": {},
   "outputs": [
    {
     "data": {
      "text/plain": [
       "'                                     Raghul Ramesh'"
      ]
     },
     "execution_count": 140,
     "metadata": {},
     "output_type": "execute_result"
    }
   ],
   "source": [
    "name.rjust(50)"
   ]
  },
  {
   "cell_type": "code",
   "execution_count": 142,
   "id": "ce7a6de6",
   "metadata": {},
   "outputs": [
    {
     "data": {
      "text/plain": [
       "'-------------------------------------Raghul Ramesh'"
      ]
     },
     "execution_count": 142,
     "metadata": {},
     "output_type": "execute_result"
    }
   ],
   "source": [
    "name.rjust(50,'-')"
   ]
  },
  {
   "cell_type": "code",
   "execution_count": 143,
   "id": "0c3348c0",
   "metadata": {},
   "outputs": [
    {
     "data": {
      "text/plain": [
       "'Raghul Ramesh'"
      ]
     },
     "execution_count": 143,
     "metadata": {},
     "output_type": "execute_result"
    }
   ],
   "source": [
    "# find and index\n",
    "\n",
    "name"
   ]
  },
  {
   "cell_type": "code",
   "execution_count": 144,
   "id": "6b35e0a7",
   "metadata": {},
   "outputs": [
    {
     "data": {
      "text/plain": [
       "1"
      ]
     },
     "execution_count": 144,
     "metadata": {},
     "output_type": "execute_result"
    }
   ],
   "source": [
    "name.index('a')"
   ]
  },
  {
   "cell_type": "code",
   "execution_count": 145,
   "id": "20309b99",
   "metadata": {},
   "outputs": [
    {
     "data": {
      "text/plain": [
       "8"
      ]
     },
     "execution_count": 145,
     "metadata": {},
     "output_type": "execute_result"
    }
   ],
   "source": [
    "name.rindex('a')"
   ]
  },
  {
   "cell_type": "code",
   "execution_count": 146,
   "id": "99bab8a5",
   "metadata": {},
   "outputs": [
    {
     "data": {
      "text/plain": [
       "1"
      ]
     },
     "execution_count": 146,
     "metadata": {},
     "output_type": "execute_result"
    }
   ],
   "source": [
    "name.find('a')"
   ]
  },
  {
   "cell_type": "code",
   "execution_count": 147,
   "id": "90ca5735",
   "metadata": {},
   "outputs": [
    {
     "data": {
      "text/plain": [
       "8"
      ]
     },
     "execution_count": 147,
     "metadata": {},
     "output_type": "execute_result"
    }
   ],
   "source": [
    "name.rfind('a')"
   ]
  },
  {
   "cell_type": "code",
   "execution_count": 148,
   "id": "7dcbb74f",
   "metadata": {},
   "outputs": [
    {
     "data": {
      "text/plain": [
       "7"
      ]
     },
     "execution_count": 148,
     "metadata": {},
     "output_type": "execute_result"
    }
   ],
   "source": [
    "name.index('Ram')"
   ]
  },
  {
   "cell_type": "code",
   "execution_count": 149,
   "id": "4edea22e",
   "metadata": {},
   "outputs": [
    {
     "data": {
      "text/plain": [
       "7"
      ]
     },
     "execution_count": 149,
     "metadata": {},
     "output_type": "execute_result"
    }
   ],
   "source": [
    "name.rindex('Ram')"
   ]
  },
  {
   "cell_type": "code",
   "execution_count": 150,
   "id": "e8c3a3fa",
   "metadata": {},
   "outputs": [
    {
     "data": {
      "text/plain": [
       "'Raghul Ramesh'"
      ]
     },
     "execution_count": 150,
     "metadata": {},
     "output_type": "execute_result"
    }
   ],
   "source": [
    "name"
   ]
  },
  {
   "cell_type": "code",
   "execution_count": 151,
   "id": "5b4d72ad",
   "metadata": {},
   "outputs": [
    {
     "ename": "ValueError",
     "evalue": "substring not found",
     "output_type": "error",
     "traceback": [
      "\u001b[1;31m---------------------------------------------------------------------------\u001b[0m",
      "\u001b[1;31mValueError\u001b[0m                                Traceback (most recent call last)",
      "Input \u001b[1;32mIn [151]\u001b[0m, in \u001b[0;36m<cell line: 1>\u001b[1;34m()\u001b[0m\n\u001b[1;32m----> 1\u001b[0m \u001b[43mname\u001b[49m\u001b[38;5;241;43m.\u001b[39;49m\u001b[43mindex\u001b[49m\u001b[43m(\u001b[49m\u001b[38;5;124;43m'\u001b[39;49m\u001b[38;5;124;43mz\u001b[39;49m\u001b[38;5;124;43m'\u001b[39;49m\u001b[43m)\u001b[49m\n",
      "\u001b[1;31mValueError\u001b[0m: substring not found"
     ]
    }
   ],
   "source": [
    "name.index('z')"
   ]
  },
  {
   "cell_type": "code",
   "execution_count": 152,
   "id": "b0280f84",
   "metadata": {},
   "outputs": [
    {
     "data": {
      "text/plain": [
       "-1"
      ]
     },
     "execution_count": 152,
     "metadata": {},
     "output_type": "execute_result"
    }
   ],
   "source": [
    "name.find('z')"
   ]
  },
  {
   "cell_type": "code",
   "execution_count": 153,
   "id": "b604fb4b",
   "metadata": {},
   "outputs": [],
   "source": [
    "# replace and translate (maketrans)\n",
    "\n",
    "tech=\"Python Programmings\""
   ]
  },
  {
   "cell_type": "code",
   "execution_count": 155,
   "id": "aac376b8",
   "metadata": {},
   "outputs": [
    {
     "data": {
      "text/plain": [
       "'Java Programmings'"
      ]
     },
     "execution_count": 155,
     "metadata": {},
     "output_type": "execute_result"
    }
   ],
   "source": [
    "tech.replace('Python','Java')"
   ]
  },
  {
   "cell_type": "code",
   "execution_count": 157,
   "id": "80eddf0d",
   "metadata": {},
   "outputs": [
    {
     "data": {
      "text/plain": [
       "'PythOn PrOgrammings'"
      ]
     },
     "execution_count": 157,
     "metadata": {},
     "output_type": "execute_result"
    }
   ],
   "source": [
    "tech.replace('o','O')"
   ]
  },
  {
   "cell_type": "code",
   "execution_count": 159,
   "id": "4340b774",
   "metadata": {},
   "outputs": [],
   "source": [
    "company='E!r#ic@c^s%!o@#%%n'"
   ]
  },
  {
   "cell_type": "code",
   "execution_count": 160,
   "id": "d91e1981",
   "metadata": {},
   "outputs": [
    {
     "data": {
      "text/plain": [
       "'E!r#ic@c^s%!o@#%%n'"
      ]
     },
     "execution_count": 160,
     "metadata": {},
     "output_type": "execute_result"
    }
   ],
   "source": [
    "company"
   ]
  },
  {
   "cell_type": "code",
   "execution_count": 165,
   "id": "af85107c",
   "metadata": {},
   "outputs": [
    {
     "data": {
      "text/plain": [
       "'Ericcson'"
      ]
     },
     "execution_count": 165,
     "metadata": {},
     "output_type": "execute_result"
    }
   ],
   "source": [
    "company.replace('!','').replace('#','').replace('^','').replace('@','').replace('%','')"
   ]
  },
  {
   "cell_type": "code",
   "execution_count": 166,
   "id": "6d614738",
   "metadata": {},
   "outputs": [
    {
     "data": {
      "text/plain": [
       "'Python Programmings'"
      ]
     },
     "execution_count": 166,
     "metadata": {},
     "output_type": "execute_result"
    }
   ],
   "source": [
    "# TRANSLATE\n",
    "\n",
    "tech"
   ]
  },
  {
   "cell_type": "code",
   "execution_count": 170,
   "id": "6f5d7b50",
   "metadata": {},
   "outputs": [
    {
     "data": {
      "text/plain": [
       "111"
      ]
     },
     "execution_count": 170,
     "metadata": {},
     "output_type": "execute_result"
    }
   ],
   "source": [
    "ord('o')"
   ]
  },
  {
   "cell_type": "code",
   "execution_count": 171,
   "id": "ea2da486",
   "metadata": {},
   "outputs": [
    {
     "data": {
      "text/plain": [
       "79"
      ]
     },
     "execution_count": 171,
     "metadata": {},
     "output_type": "execute_result"
    }
   ],
   "source": [
    "ord('O')"
   ]
  },
  {
   "cell_type": "code",
   "execution_count": 172,
   "id": "8c94d826",
   "metadata": {},
   "outputs": [
    {
     "data": {
      "text/plain": [
       "'PythOn PrOgrammings'"
      ]
     },
     "execution_count": 172,
     "metadata": {},
     "output_type": "execute_result"
    }
   ],
   "source": [
    "tech.translate({111:79})"
   ]
  },
  {
   "cell_type": "code",
   "execution_count": 174,
   "id": "12ac2db9",
   "metadata": {},
   "outputs": [],
   "source": [
    "change=tech.maketrans('o','O')"
   ]
  },
  {
   "cell_type": "code",
   "execution_count": 175,
   "id": "90f2e33d",
   "metadata": {},
   "outputs": [
    {
     "data": {
      "text/plain": [
       "'PythOn PrOgrammings'"
      ]
     },
     "execution_count": 175,
     "metadata": {},
     "output_type": "execute_result"
    }
   ],
   "source": [
    "tech.translate(change)"
   ]
  },
  {
   "cell_type": "code",
   "execution_count": 198,
   "id": "c19caf4d",
   "metadata": {},
   "outputs": [],
   "source": [
    "change=company.maketrans('!#@%^','-----')"
   ]
  },
  {
   "cell_type": "code",
   "execution_count": 199,
   "id": "74a49b79",
   "metadata": {},
   "outputs": [
    {
     "data": {
      "text/plain": [
       "'E!r#ic@c^s%!o@#%%n'"
      ]
     },
     "execution_count": 199,
     "metadata": {},
     "output_type": "execute_result"
    }
   ],
   "source": [
    "company"
   ]
  },
  {
   "cell_type": "code",
   "execution_count": 200,
   "id": "ead2d1ef",
   "metadata": {},
   "outputs": [
    {
     "data": {
      "text/plain": [
       "'E-r-ic-c-s--o----n'"
      ]
     },
     "execution_count": 200,
     "metadata": {},
     "output_type": "execute_result"
    }
   ],
   "source": [
    "company.translate(change)"
   ]
  },
  {
   "cell_type": "code",
   "execution_count": 201,
   "id": "2dee5926",
   "metadata": {},
   "outputs": [
    {
     "data": {
      "text/plain": [
       "'Ericcson'"
      ]
     },
     "execution_count": 201,
     "metadata": {},
     "output_type": "execute_result"
    }
   ],
   "source": [
    "company.translate(change).replace('-','')"
   ]
  },
  {
   "cell_type": "code",
   "execution_count": 185,
   "id": "d6785079",
   "metadata": {},
   "outputs": [
    {
     "data": {
      "text/plain": [
       "{33: 32, 35: 32, 64: 32, 37: 32, 94: 32}"
      ]
     },
     "execution_count": 185,
     "metadata": {},
     "output_type": "execute_result"
    }
   ],
   "source": [
    "change"
   ]
  },
  {
   "cell_type": "code",
   "execution_count": 186,
   "id": "361ef1be",
   "metadata": {},
   "outputs": [
    {
     "data": {
      "text/plain": [
       "'Ericcson'"
      ]
     },
     "execution_count": 186,
     "metadata": {},
     "output_type": "execute_result"
    }
   ],
   "source": [
    "company.translate({33: None, 35: None, 64: None, 37: None, 94: None})"
   ]
  },
  {
   "cell_type": "code",
   "execution_count": 188,
   "id": "1cd702ed",
   "metadata": {},
   "outputs": [],
   "source": [
    "change=tech.maketrans('Python','Java')"
   ]
  },
  {
   "cell_type": "code",
   "execution_count": 191,
   "id": "2ba20814",
   "metadata": {},
   "outputs": [
    {
     "data": {
      "text/plain": [
       "'Java Programmings'"
      ]
     },
     "execution_count": 191,
     "metadata": {},
     "output_type": "execute_result"
    }
   ],
   "source": [
    "tech.replace('Python','Java')"
   ]
  },
  {
   "cell_type": "code",
   "execution_count": 202,
   "id": "f40d4d6c",
   "metadata": {},
   "outputs": [
    {
     "data": {
      "text/plain": [
       "'Raghul Ramesh'"
      ]
     },
     "execution_count": 202,
     "metadata": {},
     "output_type": "execute_result"
    }
   ],
   "source": [
    "name"
   ]
  },
  {
   "cell_type": "code",
   "execution_count": 205,
   "id": "31dbd5a5",
   "metadata": {},
   "outputs": [
    {
     "name": "stdout",
     "output_type": "stream",
     "text": [
      "Help on built-in function find:\n",
      "\n",
      "find(...) method of builtins.str instance\n",
      "    S.find(sub[, start[, end]]) -> int\n",
      "    \n",
      "    Return the lowest index in S where substring sub is found,\n",
      "    such that sub is contained within S[start:end].  Optional\n",
      "    arguments start and end are interpreted as in slice notation.\n",
      "    \n",
      "    Return -1 on failure.\n",
      "\n"
     ]
    }
   ],
   "source": [
    "help(name.find)"
   ]
  },
  {
   "cell_type": "code",
   "execution_count": 214,
   "id": "d05905c1",
   "metadata": {},
   "outputs": [],
   "source": [
    "name='Raghul Ramesh Ram R R'"
   ]
  },
  {
   "cell_type": "code",
   "execution_count": 217,
   "id": "0e3d7a7e",
   "metadata": {},
   "outputs": [
    {
     "name": "stdout",
     "output_type": "stream",
     "text": [
      "Index: 0\n",
      "Index: 7\n",
      "Index: 14\n",
      "Index: 18\n",
      "Index: 20\n"
     ]
    }
   ],
   "source": [
    "pos=0\n",
    "while True:\n",
    "    idx=name.find('R',pos)\n",
    "    if idx != -1:\n",
    "        pos=idx+1\n",
    "        print('Index:', idx)\n",
    "    else:\n",
    "        break"
   ]
  },
  {
   "cell_type": "code",
   "execution_count": 218,
   "id": "aa0531de",
   "metadata": {},
   "outputs": [
    {
     "data": {
      "text/plain": [
       "-1"
      ]
     },
     "execution_count": 218,
     "metadata": {},
     "output_type": "execute_result"
    }
   ],
   "source": [
    "name.find('R',21)"
   ]
  },
  {
   "cell_type": "code",
   "execution_count": 216,
   "id": "051de461",
   "metadata": {},
   "outputs": [
    {
     "data": {
      "text/plain": [
       "20"
      ]
     },
     "execution_count": 216,
     "metadata": {},
     "output_type": "execute_result"
    }
   ],
   "source": [
    "name.index('R',19)"
   ]
  },
  {
   "cell_type": "code",
   "execution_count": 219,
   "id": "44c0cbf4",
   "metadata": {},
   "outputs": [
    {
     "data": {
      "text/plain": [
       "'Raghul Ramesh Ram R R'"
      ]
     },
     "execution_count": 219,
     "metadata": {},
     "output_type": "execute_result"
    }
   ],
   "source": [
    "name"
   ]
  },
  {
   "cell_type": "code",
   "execution_count": 220,
   "id": "63aa2573",
   "metadata": {},
   "outputs": [],
   "source": [
    "name = \"    Raghul Ramesh  \""
   ]
  },
  {
   "cell_type": "code",
   "execution_count": 221,
   "id": "f8da6827",
   "metadata": {},
   "outputs": [
    {
     "data": {
      "text/plain": [
       "'    Raghul Ramesh  '"
      ]
     },
     "execution_count": 221,
     "metadata": {},
     "output_type": "execute_result"
    }
   ],
   "source": [
    "name"
   ]
  },
  {
   "cell_type": "code",
   "execution_count": 222,
   "id": "330977c2",
   "metadata": {},
   "outputs": [
    {
     "data": {
      "text/plain": [
       "'Raghul Ramesh'"
      ]
     },
     "execution_count": 222,
     "metadata": {},
     "output_type": "execute_result"
    }
   ],
   "source": [
    "name.strip()"
   ]
  },
  {
   "cell_type": "code",
   "execution_count": 223,
   "id": "b4fc48de",
   "metadata": {},
   "outputs": [
    {
     "data": {
      "text/plain": [
       "'Raghul Ramesh  '"
      ]
     },
     "execution_count": 223,
     "metadata": {},
     "output_type": "execute_result"
    }
   ],
   "source": [
    "name.lstrip()"
   ]
  },
  {
   "cell_type": "code",
   "execution_count": 224,
   "id": "a0a05829",
   "metadata": {},
   "outputs": [
    {
     "data": {
      "text/plain": [
       "'    Raghul Ramesh'"
      ]
     },
     "execution_count": 224,
     "metadata": {},
     "output_type": "execute_result"
    }
   ],
   "source": [
    "name.rstrip()"
   ]
  },
  {
   "cell_type": "code",
   "execution_count": 225,
   "id": "60addb26",
   "metadata": {},
   "outputs": [],
   "source": [
    "city='Chennai-Bangalore-Hyderabad-Pune-Gurgaon'"
   ]
  },
  {
   "cell_type": "code",
   "execution_count": 226,
   "id": "a2539843",
   "metadata": {},
   "outputs": [
    {
     "data": {
      "text/plain": [
       "['Chennai', 'Bangalore', 'Hyderabad', 'Pune', 'Gurgaon']"
      ]
     },
     "execution_count": 226,
     "metadata": {},
     "output_type": "execute_result"
    }
   ],
   "source": [
    "city.split('-')"
   ]
  },
  {
   "cell_type": "code",
   "execution_count": 227,
   "id": "82050f6b",
   "metadata": {},
   "outputs": [],
   "source": [
    "mycity=['Chennai', 'Bangalore', 'Hyderabad', 'Pune', 'Gurgaon']"
   ]
  },
  {
   "cell_type": "code",
   "execution_count": 228,
   "id": "1c7a3065",
   "metadata": {},
   "outputs": [
    {
     "data": {
      "text/plain": [
       "['Chennai', 'Bangalore', 'Hyderabad', 'Pune', 'Gurgaon']"
      ]
     },
     "execution_count": 228,
     "metadata": {},
     "output_type": "execute_result"
    }
   ],
   "source": [
    "mycity"
   ]
  },
  {
   "cell_type": "code",
   "execution_count": 230,
   "id": "0fac1e24",
   "metadata": {},
   "outputs": [
    {
     "data": {
      "text/plain": [
       "'Chennai-Bangalore-Hyderabad-Pune-Gurgaon'"
      ]
     },
     "execution_count": 230,
     "metadata": {},
     "output_type": "execute_result"
    }
   ],
   "source": [
    "'-'.join(mycity)"
   ]
  },
  {
   "cell_type": "code",
   "execution_count": 231,
   "id": "069996d0",
   "metadata": {},
   "outputs": [
    {
     "name": "stdout",
     "output_type": "stream",
     "text": [
      "['__add__', '__class__', '__contains__', '__delattr__', '__dir__', '__doc__', '__eq__', '__format__', '__ge__', '__getattribute__', '__getitem__', '__getnewargs__', '__gt__', '__hash__', '__init__', '__init_subclass__', '__iter__', '__le__', '__len__', '__lt__', '__mod__', '__mul__', '__ne__', '__new__', '__reduce__', '__reduce_ex__', '__repr__', '__rmod__', '__rmul__', '__setattr__', '__sizeof__', '__str__', '__subclasshook__', 'capitalize', 'casefold', 'center', 'count', 'encode', 'endswith', 'expandtabs', 'find', 'format', 'format_map', 'index', 'isalnum', 'isalpha', 'isascii', 'isdecimal', 'isdigit', 'isidentifier', 'islower', 'isnumeric', 'isprintable', 'isspace', 'istitle', 'isupper', 'join', 'ljust', 'lower', 'lstrip', 'maketrans', 'partition', 'replace', 'rfind', 'rindex', 'rjust', 'rpartition', 'rsplit', 'rstrip', 'split', 'splitlines', 'startswith', 'strip', 'swapcase', 'title', 'translate', 'upper', 'zfill']\n"
     ]
    }
   ],
   "source": [
    "print(dir(name))"
   ]
  },
  {
   "cell_type": "code",
   "execution_count": 232,
   "id": "d67df658",
   "metadata": {},
   "outputs": [],
   "source": [
    "salary='1000'"
   ]
  },
  {
   "cell_type": "code",
   "execution_count": 233,
   "id": "d0819bb9",
   "metadata": {},
   "outputs": [
    {
     "data": {
      "text/plain": [
       "'1000000'"
      ]
     },
     "execution_count": 233,
     "metadata": {},
     "output_type": "execute_result"
    }
   ],
   "source": [
    "salary.ljust(7,'0')"
   ]
  },
  {
   "cell_type": "code",
   "execution_count": 234,
   "id": "f986baff",
   "metadata": {},
   "outputs": [
    {
     "data": {
      "text/plain": [
       "'0001000'"
      ]
     },
     "execution_count": 234,
     "metadata": {},
     "output_type": "execute_result"
    }
   ],
   "source": [
    "salary.rjust(7,'0')"
   ]
  },
  {
   "cell_type": "code",
   "execution_count": 235,
   "id": "c4ed4014",
   "metadata": {},
   "outputs": [
    {
     "data": {
      "text/plain": [
       "'1000'"
      ]
     },
     "execution_count": 235,
     "metadata": {},
     "output_type": "execute_result"
    }
   ],
   "source": [
    "salary"
   ]
  },
  {
   "cell_type": "code",
   "execution_count": 236,
   "id": "91c6f5b4",
   "metadata": {},
   "outputs": [
    {
     "data": {
      "text/plain": [
       "'0001000'"
      ]
     },
     "execution_count": 236,
     "metadata": {},
     "output_type": "execute_result"
    }
   ],
   "source": [
    "salary.zfill(7)"
   ]
  },
  {
   "cell_type": "code",
   "execution_count": 237,
   "id": "f1bb86b8",
   "metadata": {},
   "outputs": [
    {
     "name": "stdout",
     "output_type": "stream",
     "text": [
      "['__add__', '__class__', '__contains__', '__delattr__', '__dir__', '__doc__', '__eq__', '__format__', '__ge__', '__getattribute__', '__getitem__', '__getnewargs__', '__gt__', '__hash__', '__init__', '__init_subclass__', '__iter__', '__le__', '__len__', '__lt__', '__mod__', '__mul__', '__ne__', '__new__', '__reduce__', '__reduce_ex__', '__repr__', '__rmod__', '__rmul__', '__setattr__', '__sizeof__', '__str__', '__subclasshook__', 'capitalize', 'casefold', 'center', 'count', 'encode', 'endswith', 'expandtabs', 'find', 'format', 'format_map', 'index', 'isalnum', 'isalpha', 'isascii', 'isdecimal', 'isdigit', 'isidentifier', 'islower', 'isnumeric', 'isprintable', 'isspace', 'istitle', 'isupper', 'join', 'ljust', 'lower', 'lstrip', 'maketrans', 'partition', 'replace', 'rfind', 'rindex', 'rjust', 'rpartition', 'rsplit', 'rstrip', 'split', 'splitlines', 'startswith', 'strip', 'swapcase', 'title', 'translate', 'upper', 'zfill']\n"
     ]
    }
   ],
   "source": [
    "print(dir(name))"
   ]
  },
  {
   "cell_type": "code",
   "execution_count": 238,
   "id": "7499205c",
   "metadata": {},
   "outputs": [],
   "source": [
    "city='chennai'"
   ]
  },
  {
   "cell_type": "code",
   "execution_count": 239,
   "id": "eddd74a7",
   "metadata": {},
   "outputs": [
    {
     "data": {
      "text/plain": [
       "True"
      ]
     },
     "execution_count": 239,
     "metadata": {},
     "output_type": "execute_result"
    }
   ],
   "source": [
    "city.islower()"
   ]
  },
  {
   "cell_type": "code",
   "execution_count": 240,
   "id": "8555b12e",
   "metadata": {},
   "outputs": [
    {
     "data": {
      "text/plain": [
       "False"
      ]
     },
     "execution_count": 240,
     "metadata": {},
     "output_type": "execute_result"
    }
   ],
   "source": [
    "city.istitle()"
   ]
  },
  {
   "cell_type": "code",
   "execution_count": 241,
   "id": "8288ad55",
   "metadata": {},
   "outputs": [
    {
     "data": {
      "text/plain": [
       "False"
      ]
     },
     "execution_count": 241,
     "metadata": {},
     "output_type": "execute_result"
    }
   ],
   "source": [
    "city.isupper()"
   ]
  },
  {
   "cell_type": "code",
   "execution_count": 242,
   "id": "106c96ca",
   "metadata": {},
   "outputs": [
    {
     "data": {
      "text/plain": [
       "True"
      ]
     },
     "execution_count": 242,
     "metadata": {},
     "output_type": "execute_result"
    }
   ],
   "source": [
    "salary.isdigit()"
   ]
  },
  {
   "cell_type": "code",
   "execution_count": 243,
   "id": "84f5c46a",
   "metadata": {},
   "outputs": [
    {
     "data": {
      "text/plain": [
       "False"
      ]
     },
     "execution_count": 243,
     "metadata": {},
     "output_type": "execute_result"
    }
   ],
   "source": [
    "city.isdigit()"
   ]
  },
  {
   "cell_type": "code",
   "execution_count": 244,
   "id": "0e036a42",
   "metadata": {},
   "outputs": [
    {
     "data": {
      "text/plain": [
       "False"
      ]
     },
     "execution_count": 244,
     "metadata": {},
     "output_type": "execute_result"
    }
   ],
   "source": [
    "city.isnumeric()"
   ]
  },
  {
   "cell_type": "code",
   "execution_count": 245,
   "id": "a2dd1172",
   "metadata": {},
   "outputs": [],
   "source": [
    "empid='s1490542'"
   ]
  },
  {
   "cell_type": "code",
   "execution_count": 246,
   "id": "44485e05",
   "metadata": {},
   "outputs": [
    {
     "data": {
      "text/plain": [
       "True"
      ]
     },
     "execution_count": 246,
     "metadata": {},
     "output_type": "execute_result"
    }
   ],
   "source": [
    "empid.isalnum()"
   ]
  },
  {
   "cell_type": "code",
   "execution_count": 247,
   "id": "9b4ecd9e",
   "metadata": {},
   "outputs": [],
   "source": [
    "x=' '"
   ]
  },
  {
   "cell_type": "code",
   "execution_count": 248,
   "id": "e972d023",
   "metadata": {},
   "outputs": [
    {
     "data": {
      "text/plain": [
       "True"
      ]
     },
     "execution_count": 248,
     "metadata": {},
     "output_type": "execute_result"
    }
   ],
   "source": [
    "x.isspace()"
   ]
  },
  {
   "cell_type": "code",
   "execution_count": 249,
   "id": "76aabf56",
   "metadata": {},
   "outputs": [
    {
     "data": {
      "text/plain": [
       "'    Raghul Ramesh  '"
      ]
     },
     "execution_count": 249,
     "metadata": {},
     "output_type": "execute_result"
    }
   ],
   "source": [
    "name"
   ]
  },
  {
   "cell_type": "code",
   "execution_count": 250,
   "id": "ff12f3dd",
   "metadata": {},
   "outputs": [
    {
     "data": {
      "text/plain": [
       "False"
      ]
     },
     "execution_count": 250,
     "metadata": {},
     "output_type": "execute_result"
    }
   ],
   "source": [
    "name.isspace()"
   ]
  },
  {
   "cell_type": "code",
   "execution_count": 252,
   "id": "68263117",
   "metadata": {},
   "outputs": [],
   "source": [
    "city='Chennai-Bangalore-Hyderabad-Pune-Gurgaon'"
   ]
  },
  {
   "cell_type": "code",
   "execution_count": 253,
   "id": "05960dac",
   "metadata": {},
   "outputs": [
    {
     "data": {
      "text/plain": [
       "['Chennai', 'Bangalore', 'Hyderabad', 'Pune', 'Gurgaon']"
      ]
     },
     "execution_count": 253,
     "metadata": {},
     "output_type": "execute_result"
    }
   ],
   "source": [
    "city.split('-')"
   ]
  },
  {
   "cell_type": "code",
   "execution_count": 254,
   "id": "4f4fbab1",
   "metadata": {},
   "outputs": [
    {
     "data": {
      "text/plain": [
       "('Chennai', '-', 'Bangalore-Hyderabad-Pune-Gurgaon')"
      ]
     },
     "execution_count": 254,
     "metadata": {},
     "output_type": "execute_result"
    }
   ],
   "source": [
    "city.partition('-')"
   ]
  },
  {
   "cell_type": "code",
   "execution_count": 255,
   "id": "c20426bb",
   "metadata": {},
   "outputs": [
    {
     "data": {
      "text/plain": [
       "('Chennai-Bangalore-Hyderabad-Pune', '-', 'Gurgaon')"
      ]
     },
     "execution_count": 255,
     "metadata": {},
     "output_type": "execute_result"
    }
   ],
   "source": [
    "city.rpartition('-')"
   ]
  },
  {
   "cell_type": "markdown",
   "id": "54293d47",
   "metadata": {},
   "source": [
    "# LIST"
   ]
  },
  {
   "cell_type": "code",
   "execution_count": 256,
   "id": "1eb66942",
   "metadata": {},
   "outputs": [],
   "source": [
    "mylist=[]"
   ]
  },
  {
   "cell_type": "code",
   "execution_count": 257,
   "id": "5e36a781",
   "metadata": {},
   "outputs": [
    {
     "data": {
      "text/plain": [
       "list"
      ]
     },
     "execution_count": 257,
     "metadata": {},
     "output_type": "execute_result"
    }
   ],
   "source": [
    "type(mylist)"
   ]
  },
  {
   "cell_type": "code",
   "execution_count": 258,
   "id": "79bd11ca",
   "metadata": {},
   "outputs": [],
   "source": [
    "l1=list()"
   ]
  },
  {
   "cell_type": "code",
   "execution_count": 259,
   "id": "e987f624",
   "metadata": {},
   "outputs": [
    {
     "data": {
      "text/plain": [
       "list"
      ]
     },
     "execution_count": 259,
     "metadata": {},
     "output_type": "execute_result"
    }
   ],
   "source": [
    "type(l1)"
   ]
  },
  {
   "cell_type": "code",
   "execution_count": 260,
   "id": "2a94ea1d",
   "metadata": {},
   "outputs": [],
   "source": [
    "info=['Monday','May',16,2022,'Python']"
   ]
  },
  {
   "cell_type": "code",
   "execution_count": 261,
   "id": "565d630e",
   "metadata": {},
   "outputs": [
    {
     "data": {
      "text/plain": [
       "5"
      ]
     },
     "execution_count": 261,
     "metadata": {},
     "output_type": "execute_result"
    }
   ],
   "source": [
    "len(info)"
   ]
  },
  {
   "cell_type": "code",
   "execution_count": 262,
   "id": "8c9e6f39",
   "metadata": {},
   "outputs": [],
   "source": [
    "number=[1,2,3,4,5]"
   ]
  },
  {
   "cell_type": "code",
   "execution_count": 263,
   "id": "c9483746",
   "metadata": {},
   "outputs": [
    {
     "data": {
      "text/plain": [
       "1"
      ]
     },
     "execution_count": 263,
     "metadata": {},
     "output_type": "execute_result"
    }
   ],
   "source": [
    "min(number)"
   ]
  },
  {
   "cell_type": "code",
   "execution_count": 264,
   "id": "f19ff967",
   "metadata": {},
   "outputs": [
    {
     "data": {
      "text/plain": [
       "5"
      ]
     },
     "execution_count": 264,
     "metadata": {},
     "output_type": "execute_result"
    }
   ],
   "source": [
    "max(number)"
   ]
  },
  {
   "cell_type": "code",
   "execution_count": 265,
   "id": "e0f4a847",
   "metadata": {},
   "outputs": [
    {
     "data": {
      "text/plain": [
       "5"
      ]
     },
     "execution_count": 265,
     "metadata": {},
     "output_type": "execute_result"
    }
   ],
   "source": [
    "len(number)"
   ]
  },
  {
   "cell_type": "code",
   "execution_count": 267,
   "id": "1bcc327c",
   "metadata": {},
   "outputs": [
    {
     "data": {
      "text/plain": [
       "15"
      ]
     },
     "execution_count": 267,
     "metadata": {},
     "output_type": "execute_result"
    }
   ],
   "source": [
    "sum(number)"
   ]
  },
  {
   "cell_type": "code",
   "execution_count": 270,
   "id": "0e5d4749",
   "metadata": {},
   "outputs": [
    {
     "name": "stdout",
     "output_type": "stream",
     "text": [
      "['__add__', '__class__', '__contains__', '__delattr__', '__delitem__', '__dir__', '__doc__', '__eq__', '__format__', '__ge__', '__getattribute__', '__getitem__', '__gt__', '__hash__', '__iadd__', '__imul__', '__init__', '__init_subclass__', '__iter__', '__le__', '__len__', '__lt__', '__mul__', '__ne__', '__new__', '__reduce__', '__reduce_ex__', '__repr__', '__reversed__', '__rmul__', '__setattr__', '__setitem__', '__sizeof__', '__str__', '__subclasshook__', 'append', 'clear', 'copy', 'count', 'extend', 'index', 'insert', 'pop', 'remove', 'reverse', 'sort']\n"
     ]
    }
   ],
   "source": [
    "print(dir(number))"
   ]
  },
  {
   "cell_type": "code",
   "execution_count": 271,
   "id": "025ddcea",
   "metadata": {},
   "outputs": [],
   "source": [
    "info=['Monday','May',16,2022,'Python']"
   ]
  },
  {
   "cell_type": "code",
   "execution_count": 272,
   "id": "0a970d72",
   "metadata": {},
   "outputs": [
    {
     "ename": "TypeError",
     "evalue": "'<' not supported between instances of 'int' and 'str'",
     "output_type": "error",
     "traceback": [
      "\u001b[1;31m---------------------------------------------------------------------------\u001b[0m",
      "\u001b[1;31mTypeError\u001b[0m                                 Traceback (most recent call last)",
      "Input \u001b[1;32mIn [272]\u001b[0m, in \u001b[0;36m<cell line: 1>\u001b[1;34m()\u001b[0m\n\u001b[1;32m----> 1\u001b[0m \u001b[38;5;28;43mmin\u001b[39;49m\u001b[43m(\u001b[49m\u001b[43minfo\u001b[49m\u001b[43m)\u001b[49m\n",
      "\u001b[1;31mTypeError\u001b[0m: '<' not supported between instances of 'int' and 'str'"
     ]
    }
   ],
   "source": [
    "min(info)"
   ]
  },
  {
   "cell_type": "code",
   "execution_count": 273,
   "id": "42a79392",
   "metadata": {},
   "outputs": [
    {
     "data": {
      "text/plain": [
       "[1, 2, 3, 4, 5]"
      ]
     },
     "execution_count": 273,
     "metadata": {},
     "output_type": "execute_result"
    }
   ],
   "source": [
    "number"
   ]
  },
  {
   "cell_type": "code",
   "execution_count": 274,
   "id": "887242b8",
   "metadata": {},
   "outputs": [],
   "source": [
    "number.append(6)"
   ]
  },
  {
   "cell_type": "code",
   "execution_count": 275,
   "id": "5fc76c38",
   "metadata": {},
   "outputs": [
    {
     "data": {
      "text/plain": [
       "[1, 2, 3, 4, 5, 6]"
      ]
     },
     "execution_count": 275,
     "metadata": {},
     "output_type": "execute_result"
    }
   ],
   "source": [
    "number"
   ]
  },
  {
   "cell_type": "code",
   "execution_count": 276,
   "id": "a9e9b020",
   "metadata": {},
   "outputs": [],
   "source": [
    "number.append(7)"
   ]
  },
  {
   "cell_type": "code",
   "execution_count": 277,
   "id": "8e40329b",
   "metadata": {},
   "outputs": [
    {
     "data": {
      "text/plain": [
       "[1, 2, 3, 4, 5, 6, 7]"
      ]
     },
     "execution_count": 277,
     "metadata": {},
     "output_type": "execute_result"
    }
   ],
   "source": [
    "number"
   ]
  },
  {
   "cell_type": "code",
   "execution_count": 278,
   "id": "c0865d8e",
   "metadata": {},
   "outputs": [
    {
     "ename": "TypeError",
     "evalue": "append() takes exactly one argument (2 given)",
     "output_type": "error",
     "traceback": [
      "\u001b[1;31m---------------------------------------------------------------------------\u001b[0m",
      "\u001b[1;31mTypeError\u001b[0m                                 Traceback (most recent call last)",
      "Input \u001b[1;32mIn [278]\u001b[0m, in \u001b[0;36m<cell line: 1>\u001b[1;34m()\u001b[0m\n\u001b[1;32m----> 1\u001b[0m \u001b[43mnumber\u001b[49m\u001b[38;5;241;43m.\u001b[39;49m\u001b[43mappend\u001b[49m\u001b[43m(\u001b[49m\u001b[38;5;241;43m8\u001b[39;49m\u001b[43m,\u001b[49m\u001b[38;5;241;43m9\u001b[39;49m\u001b[43m)\u001b[49m\n",
      "\u001b[1;31mTypeError\u001b[0m: append() takes exactly one argument (2 given)"
     ]
    }
   ],
   "source": [
    "number.append(8,9)"
   ]
  },
  {
   "cell_type": "code",
   "execution_count": 279,
   "id": "45b345a9",
   "metadata": {},
   "outputs": [],
   "source": [
    "number.append([8,9])"
   ]
  },
  {
   "cell_type": "code",
   "execution_count": 280,
   "id": "9514803d",
   "metadata": {},
   "outputs": [
    {
     "data": {
      "text/plain": [
       "[1, 2, 3, 4, 5, 6, 7, [8, 9]]"
      ]
     },
     "execution_count": 280,
     "metadata": {},
     "output_type": "execute_result"
    }
   ],
   "source": [
    "number"
   ]
  },
  {
   "cell_type": "code",
   "execution_count": 281,
   "id": "2df251b5",
   "metadata": {},
   "outputs": [
    {
     "data": {
      "text/plain": [
       "[8, 9]"
      ]
     },
     "execution_count": 281,
     "metadata": {},
     "output_type": "execute_result"
    }
   ],
   "source": [
    "number[-1]"
   ]
  },
  {
   "cell_type": "code",
   "execution_count": 283,
   "id": "13391f31",
   "metadata": {},
   "outputs": [],
   "source": [
    "number.extend([10])"
   ]
  },
  {
   "cell_type": "code",
   "execution_count": 284,
   "id": "1ade3df7",
   "metadata": {},
   "outputs": [
    {
     "data": {
      "text/plain": [
       "[1, 2, 3, 4, 5, 6, 7, [8, 9], 10]"
      ]
     },
     "execution_count": 284,
     "metadata": {},
     "output_type": "execute_result"
    }
   ],
   "source": [
    "number"
   ]
  },
  {
   "cell_type": "code",
   "execution_count": 289,
   "id": "29a2e246",
   "metadata": {},
   "outputs": [
    {
     "ename": "TypeError",
     "evalue": "extend() takes exactly one argument (5 given)",
     "output_type": "error",
     "traceback": [
      "\u001b[1;31m---------------------------------------------------------------------------\u001b[0m",
      "\u001b[1;31mTypeError\u001b[0m                                 Traceback (most recent call last)",
      "Input \u001b[1;32mIn [289]\u001b[0m, in \u001b[0;36m<cell line: 1>\u001b[1;34m()\u001b[0m\n\u001b[1;32m----> 1\u001b[0m \u001b[43mnumber\u001b[49m\u001b[38;5;241;43m.\u001b[39;49m\u001b[43mextend\u001b[49m\u001b[43m(\u001b[49m\u001b[38;5;241;43m11\u001b[39;49m\u001b[43m,\u001b[49m\u001b[38;5;241;43m12\u001b[39;49m\u001b[43m,\u001b[49m\u001b[38;5;241;43m13\u001b[39;49m\u001b[43m,\u001b[49m\u001b[38;5;241;43m14\u001b[39;49m\u001b[43m,\u001b[49m\u001b[38;5;241;43m15\u001b[39;49m\u001b[43m)\u001b[49m\n",
      "\u001b[1;31mTypeError\u001b[0m: extend() takes exactly one argument (5 given)"
     ]
    }
   ],
   "source": [
    "number.extend([11,12,13,14,15])"
   ]
  },
  {
   "cell_type": "code",
   "execution_count": 286,
   "id": "d91c5ef6",
   "metadata": {},
   "outputs": [
    {
     "data": {
      "text/plain": [
       "[1, 2, 3, 4, 5, 6, 7, [8, 9], 10, 11, 12, 13, 14, 15]"
      ]
     },
     "execution_count": 286,
     "metadata": {},
     "output_type": "execute_result"
    }
   ],
   "source": [
    "number"
   ]
  },
  {
   "cell_type": "code",
   "execution_count": 287,
   "id": "0c376fbe",
   "metadata": {},
   "outputs": [
    {
     "data": {
      "text/plain": [
       "15"
      ]
     },
     "execution_count": 287,
     "metadata": {},
     "output_type": "execute_result"
    }
   ],
   "source": [
    "number[-1]"
   ]
  },
  {
   "cell_type": "code",
   "execution_count": 288,
   "id": "fee121e6",
   "metadata": {},
   "outputs": [
    {
     "data": {
      "text/plain": [
       "14"
      ]
     },
     "execution_count": 288,
     "metadata": {},
     "output_type": "execute_result"
    }
   ],
   "source": [
    "number[-2]"
   ]
  },
  {
   "cell_type": "code",
   "execution_count": 290,
   "id": "f08d1ea6",
   "metadata": {},
   "outputs": [
    {
     "data": {
      "text/plain": [
       "[1, 2, 3, 4, 5, 6, 7, [8, 9], 10, 11, 12, 13, 14, 15]"
      ]
     },
     "execution_count": 290,
     "metadata": {},
     "output_type": "execute_result"
    }
   ],
   "source": [
    "number"
   ]
  },
  {
   "cell_type": "code",
   "execution_count": 291,
   "id": "8122d91a",
   "metadata": {},
   "outputs": [],
   "source": [
    "number.insert(0,100)"
   ]
  },
  {
   "cell_type": "code",
   "execution_count": 292,
   "id": "13ea9d49",
   "metadata": {},
   "outputs": [
    {
     "data": {
      "text/plain": [
       "[100, 1, 2, 3, 4, 5, 6, 7, [8, 9], 10, 11, 12, 13, 14, 15]"
      ]
     },
     "execution_count": 292,
     "metadata": {},
     "output_type": "execute_result"
    }
   ],
   "source": [
    "number"
   ]
  },
  {
   "cell_type": "code",
   "execution_count": 293,
   "id": "093a0a47",
   "metadata": {},
   "outputs": [],
   "source": [
    "number.insert(6,5.5)"
   ]
  },
  {
   "cell_type": "code",
   "execution_count": 294,
   "id": "f6d65e18",
   "metadata": {},
   "outputs": [
    {
     "data": {
      "text/plain": [
       "[100, 1, 2, 3, 4, 5, 5.5, 6, 7, [8, 9], 10, 11, 12, 13, 14, 15]"
      ]
     },
     "execution_count": 294,
     "metadata": {},
     "output_type": "execute_result"
    }
   ],
   "source": [
    "number"
   ]
  },
  {
   "cell_type": "code",
   "execution_count": 295,
   "id": "c550784f",
   "metadata": {},
   "outputs": [],
   "source": [
    "number.remove(4)"
   ]
  },
  {
   "cell_type": "code",
   "execution_count": 296,
   "id": "dd631eef",
   "metadata": {},
   "outputs": [
    {
     "data": {
      "text/plain": [
       "[100, 1, 2, 3, 5, 5.5, 6, 7, [8, 9], 10, 11, 12, 13, 14, 15]"
      ]
     },
     "execution_count": 296,
     "metadata": {},
     "output_type": "execute_result"
    }
   ],
   "source": [
    "number"
   ]
  },
  {
   "cell_type": "code",
   "execution_count": 297,
   "id": "f899dbbd",
   "metadata": {},
   "outputs": [],
   "source": [
    "number.remove(13)"
   ]
  },
  {
   "cell_type": "code",
   "execution_count": 298,
   "id": "b38668f4",
   "metadata": {},
   "outputs": [
    {
     "data": {
      "text/plain": [
       "[100, 1, 2, 3, 5, 5.5, 6, 7, [8, 9], 10, 11, 12, 14, 15]"
      ]
     },
     "execution_count": 298,
     "metadata": {},
     "output_type": "execute_result"
    }
   ],
   "source": [
    "number"
   ]
  },
  {
   "cell_type": "code",
   "execution_count": 299,
   "id": "8bae74b6",
   "metadata": {},
   "outputs": [
    {
     "data": {
      "text/plain": [
       "15"
      ]
     },
     "execution_count": 299,
     "metadata": {},
     "output_type": "execute_result"
    }
   ],
   "source": [
    "number.pop()"
   ]
  },
  {
   "cell_type": "code",
   "execution_count": 300,
   "id": "c5cd0620",
   "metadata": {},
   "outputs": [
    {
     "data": {
      "text/plain": [
       "[100, 1, 2, 3, 5, 5.5, 6, 7, [8, 9], 10, 11, 12, 14]"
      ]
     },
     "execution_count": 300,
     "metadata": {},
     "output_type": "execute_result"
    }
   ],
   "source": [
    "number"
   ]
  },
  {
   "cell_type": "code",
   "execution_count": 301,
   "id": "1f0cb3b6",
   "metadata": {},
   "outputs": [
    {
     "data": {
      "text/plain": [
       "14"
      ]
     },
     "execution_count": 301,
     "metadata": {},
     "output_type": "execute_result"
    }
   ],
   "source": [
    "number.pop()"
   ]
  },
  {
   "cell_type": "code",
   "execution_count": 302,
   "id": "79773f95",
   "metadata": {},
   "outputs": [
    {
     "data": {
      "text/plain": [
       "[8, 9]"
      ]
     },
     "execution_count": 302,
     "metadata": {},
     "output_type": "execute_result"
    }
   ],
   "source": [
    "number.pop(8)"
   ]
  },
  {
   "cell_type": "code",
   "execution_count": 303,
   "id": "8c1943f5",
   "metadata": {},
   "outputs": [
    {
     "data": {
      "text/plain": [
       "[100, 1, 2, 3, 5, 5.5, 6, 7, 10, 11, 12]"
      ]
     },
     "execution_count": 303,
     "metadata": {},
     "output_type": "execute_result"
    }
   ],
   "source": [
    "number"
   ]
  },
  {
   "cell_type": "code",
   "execution_count": 304,
   "id": "17f10d3d",
   "metadata": {},
   "outputs": [
    {
     "data": {
      "text/plain": [
       "100"
      ]
     },
     "execution_count": 304,
     "metadata": {},
     "output_type": "execute_result"
    }
   ],
   "source": [
    "number.pop(0)"
   ]
  },
  {
   "cell_type": "code",
   "execution_count": 305,
   "id": "2feaa9d9",
   "metadata": {},
   "outputs": [
    {
     "data": {
      "text/plain": [
       "[1, 2, 3, 5, 5.5, 6, 7, 10, 11, 12]"
      ]
     },
     "execution_count": 305,
     "metadata": {},
     "output_type": "execute_result"
    }
   ],
   "source": [
    "number"
   ]
  },
  {
   "cell_type": "code",
   "execution_count": 306,
   "id": "66e61b2d",
   "metadata": {},
   "outputs": [
    {
     "data": {
      "text/plain": [
       "12"
      ]
     },
     "execution_count": 306,
     "metadata": {},
     "output_type": "execute_result"
    }
   ],
   "source": [
    "number.pop()"
   ]
  },
  {
   "cell_type": "code",
   "execution_count": 307,
   "id": "273387ac",
   "metadata": {},
   "outputs": [
    {
     "data": {
      "text/plain": [
       "[1, 2, 3, 5, 5.5, 6, 7, 10, 11]"
      ]
     },
     "execution_count": 307,
     "metadata": {},
     "output_type": "execute_result"
    }
   ],
   "source": [
    "number"
   ]
  },
  {
   "cell_type": "code",
   "execution_count": 308,
   "id": "005ef78c",
   "metadata": {},
   "outputs": [],
   "source": [
    "number.extend([1,1,2,3,4,3,2,3,4,2,2])"
   ]
  },
  {
   "cell_type": "code",
   "execution_count": 309,
   "id": "9eb6f240",
   "metadata": {},
   "outputs": [
    {
     "data": {
      "text/plain": [
       "[1, 2, 3, 5, 5.5, 6, 7, 10, 11, 1, 1, 2, 3, 4, 3, 2, 3, 4, 2, 2]"
      ]
     },
     "execution_count": 309,
     "metadata": {},
     "output_type": "execute_result"
    }
   ],
   "source": [
    "number"
   ]
  },
  {
   "cell_type": "code",
   "execution_count": 310,
   "id": "ba4855d3",
   "metadata": {},
   "outputs": [
    {
     "data": {
      "text/plain": [
       "5"
      ]
     },
     "execution_count": 310,
     "metadata": {},
     "output_type": "execute_result"
    }
   ],
   "source": [
    "number.count(2)"
   ]
  },
  {
   "cell_type": "code",
   "execution_count": 311,
   "id": "d3cb17d1",
   "metadata": {},
   "outputs": [
    {
     "data": {
      "text/plain": [
       "3"
      ]
     },
     "execution_count": 311,
     "metadata": {},
     "output_type": "execute_result"
    }
   ],
   "source": [
    "number.count(1)"
   ]
  },
  {
   "cell_type": "code",
   "execution_count": 312,
   "id": "971071a4",
   "metadata": {},
   "outputs": [
    {
     "data": {
      "text/plain": [
       "1"
      ]
     },
     "execution_count": 312,
     "metadata": {},
     "output_type": "execute_result"
    }
   ],
   "source": [
    "number.index(2)"
   ]
  },
  {
   "cell_type": "code",
   "execution_count": 313,
   "id": "86f80b5e",
   "metadata": {},
   "outputs": [
    {
     "data": {
      "text/plain": [
       "[1, 2, 3, 5, 5.5, 6, 7, 10, 11, 1, 1, 2, 3, 4, 3, 2, 3, 4, 2, 2]"
      ]
     },
     "execution_count": 313,
     "metadata": {},
     "output_type": "execute_result"
    }
   ],
   "source": [
    "number"
   ]
  },
  {
   "cell_type": "code",
   "execution_count": 314,
   "id": "caf34786",
   "metadata": {},
   "outputs": [],
   "source": [
    "number.sort()"
   ]
  },
  {
   "cell_type": "code",
   "execution_count": 315,
   "id": "bc3cfba3",
   "metadata": {},
   "outputs": [
    {
     "data": {
      "text/plain": [
       "[1, 1, 1, 2, 2, 2, 2, 2, 3, 3, 3, 3, 4, 4, 5, 5.5, 6, 7, 10, 11]"
      ]
     },
     "execution_count": 315,
     "metadata": {},
     "output_type": "execute_result"
    }
   ],
   "source": [
    "number"
   ]
  },
  {
   "cell_type": "code",
   "execution_count": 316,
   "id": "ca0899da",
   "metadata": {},
   "outputs": [],
   "source": [
    "number.sort(reverse=True)"
   ]
  },
  {
   "cell_type": "code",
   "execution_count": 317,
   "id": "d7051b0f",
   "metadata": {},
   "outputs": [
    {
     "data": {
      "text/plain": [
       "[11, 10, 7, 6, 5.5, 5, 4, 4, 3, 3, 3, 3, 2, 2, 2, 2, 2, 1, 1, 1]"
      ]
     },
     "execution_count": 317,
     "metadata": {},
     "output_type": "execute_result"
    }
   ],
   "source": [
    "number"
   ]
  },
  {
   "cell_type": "code",
   "execution_count": 318,
   "id": "091c6dbf",
   "metadata": {},
   "outputs": [],
   "source": [
    "numbers=[1,6,3,5,2,9,7]"
   ]
  },
  {
   "cell_type": "code",
   "execution_count": 319,
   "id": "c09a4653",
   "metadata": {},
   "outputs": [],
   "source": [
    "numbers.reverse()"
   ]
  },
  {
   "cell_type": "code",
   "execution_count": 320,
   "id": "ab487f4b",
   "metadata": {},
   "outputs": [
    {
     "data": {
      "text/plain": [
       "[7, 9, 2, 5, 3, 6, 1]"
      ]
     },
     "execution_count": 320,
     "metadata": {},
     "output_type": "execute_result"
    }
   ],
   "source": [
    "numbers"
   ]
  },
  {
   "cell_type": "code",
   "execution_count": 322,
   "id": "e1594d69",
   "metadata": {},
   "outputs": [
    {
     "data": {
      "text/plain": [
       "[7, 9, 2, 5, 3, 6, 1]"
      ]
     },
     "execution_count": 322,
     "metadata": {},
     "output_type": "execute_result"
    }
   ],
   "source": [
    "numbers"
   ]
  },
  {
   "cell_type": "code",
   "execution_count": 323,
   "id": "a31a3322",
   "metadata": {},
   "outputs": [
    {
     "data": {
      "text/plain": [
       "[1, 6, 3, 5, 2, 9, 7]"
      ]
     },
     "execution_count": 323,
     "metadata": {},
     "output_type": "execute_result"
    }
   ],
   "source": [
    "numbers[::-1]"
   ]
  },
  {
   "cell_type": "code",
   "execution_count": 324,
   "id": "5a27d15d",
   "metadata": {},
   "outputs": [],
   "source": [
    "numbers.clear()"
   ]
  },
  {
   "cell_type": "code",
   "execution_count": 325,
   "id": "b2fac9aa",
   "metadata": {},
   "outputs": [
    {
     "data": {
      "text/plain": [
       "[]"
      ]
     },
     "execution_count": 325,
     "metadata": {},
     "output_type": "execute_result"
    }
   ],
   "source": [
    "numbers"
   ]
  },
  {
   "cell_type": "code",
   "execution_count": 326,
   "id": "e60d8498",
   "metadata": {},
   "outputs": [],
   "source": [
    "number=[1,2,3,4,5]"
   ]
  },
  {
   "cell_type": "code",
   "execution_count": 327,
   "id": "e459d497",
   "metadata": {},
   "outputs": [],
   "source": [
    "number_backup=number"
   ]
  },
  {
   "cell_type": "code",
   "execution_count": 328,
   "id": "0a506b2a",
   "metadata": {},
   "outputs": [
    {
     "data": {
      "text/plain": [
       "[1, 2, 3, 4, 5]"
      ]
     },
     "execution_count": 328,
     "metadata": {},
     "output_type": "execute_result"
    }
   ],
   "source": [
    "number"
   ]
  },
  {
   "cell_type": "code",
   "execution_count": 329,
   "id": "f6dceed2",
   "metadata": {},
   "outputs": [
    {
     "data": {
      "text/plain": [
       "[1, 2, 3, 4, 5]"
      ]
     },
     "execution_count": 329,
     "metadata": {},
     "output_type": "execute_result"
    }
   ],
   "source": [
    "number_backup"
   ]
  },
  {
   "cell_type": "code",
   "execution_count": 330,
   "id": "5725f01d",
   "metadata": {},
   "outputs": [],
   "source": [
    "number.extend([100,200])"
   ]
  },
  {
   "cell_type": "code",
   "execution_count": 331,
   "id": "f79683ac",
   "metadata": {},
   "outputs": [
    {
     "data": {
      "text/plain": [
       "[1, 2, 3, 4, 5, 100, 200]"
      ]
     },
     "execution_count": 331,
     "metadata": {},
     "output_type": "execute_result"
    }
   ],
   "source": [
    "number"
   ]
  },
  {
   "cell_type": "code",
   "execution_count": 332,
   "id": "46e4d1e9",
   "metadata": {},
   "outputs": [
    {
     "data": {
      "text/plain": [
       "[1, 2, 3, 4, 5, 100, 200]"
      ]
     },
     "execution_count": 332,
     "metadata": {},
     "output_type": "execute_result"
    }
   ],
   "source": [
    "number_backup"
   ]
  },
  {
   "cell_type": "code",
   "execution_count": 333,
   "id": "58a946c1",
   "metadata": {},
   "outputs": [],
   "source": [
    "number_backup.insert(0,10000000)"
   ]
  },
  {
   "cell_type": "code",
   "execution_count": 334,
   "id": "19f70308",
   "metadata": {},
   "outputs": [
    {
     "data": {
      "text/plain": [
       "[10000000, 1, 2, 3, 4, 5, 100, 200]"
      ]
     },
     "execution_count": 334,
     "metadata": {},
     "output_type": "execute_result"
    }
   ],
   "source": [
    "number_backup"
   ]
  },
  {
   "cell_type": "code",
   "execution_count": 335,
   "id": "8f8d6eff",
   "metadata": {},
   "outputs": [
    {
     "data": {
      "text/plain": [
       "[10000000, 1, 2, 3, 4, 5, 100, 200]"
      ]
     },
     "execution_count": 335,
     "metadata": {},
     "output_type": "execute_result"
    }
   ],
   "source": [
    "number"
   ]
  },
  {
   "cell_type": "code",
   "execution_count": 336,
   "id": "a0b817cd",
   "metadata": {},
   "outputs": [
    {
     "data": {
      "text/plain": [
       "2084789194112"
      ]
     },
     "execution_count": 336,
     "metadata": {},
     "output_type": "execute_result"
    }
   ],
   "source": [
    "id(number)"
   ]
  },
  {
   "cell_type": "code",
   "execution_count": 337,
   "id": "5b35178c",
   "metadata": {},
   "outputs": [
    {
     "data": {
      "text/plain": [
       "2084789194112"
      ]
     },
     "execution_count": 337,
     "metadata": {},
     "output_type": "execute_result"
    }
   ],
   "source": [
    "id(number_backup)"
   ]
  },
  {
   "cell_type": "code",
   "execution_count": 338,
   "id": "a1a9bea1",
   "metadata": {},
   "outputs": [],
   "source": [
    "number=[1,2,3,4,5]"
   ]
  },
  {
   "cell_type": "code",
   "execution_count": 339,
   "id": "f028cb6a",
   "metadata": {},
   "outputs": [],
   "source": [
    "bk_number=number.copy()"
   ]
  },
  {
   "cell_type": "code",
   "execution_count": 340,
   "id": "0de8d085",
   "metadata": {},
   "outputs": [
    {
     "data": {
      "text/plain": [
       "[1, 2, 3, 4, 5]"
      ]
     },
     "execution_count": 340,
     "metadata": {},
     "output_type": "execute_result"
    }
   ],
   "source": [
    "number"
   ]
  },
  {
   "cell_type": "code",
   "execution_count": 341,
   "id": "6f5fe884",
   "metadata": {},
   "outputs": [
    {
     "data": {
      "text/plain": [
       "[1, 2, 3, 4, 5]"
      ]
     },
     "execution_count": 341,
     "metadata": {},
     "output_type": "execute_result"
    }
   ],
   "source": [
    "bk_number"
   ]
  },
  {
   "cell_type": "code",
   "execution_count": 342,
   "id": "df503f30",
   "metadata": {},
   "outputs": [],
   "source": [
    "number.append(10)"
   ]
  },
  {
   "cell_type": "code",
   "execution_count": 343,
   "id": "42bac2a3",
   "metadata": {},
   "outputs": [
    {
     "data": {
      "text/plain": [
       "[1, 2, 3, 4, 5, 10]"
      ]
     },
     "execution_count": 343,
     "metadata": {},
     "output_type": "execute_result"
    }
   ],
   "source": [
    "number"
   ]
  },
  {
   "cell_type": "code",
   "execution_count": 344,
   "id": "2c31e0e5",
   "metadata": {},
   "outputs": [
    {
     "data": {
      "text/plain": [
       "[1, 2, 3, 4, 5]"
      ]
     },
     "execution_count": 344,
     "metadata": {},
     "output_type": "execute_result"
    }
   ],
   "source": [
    "bk_number"
   ]
  },
  {
   "cell_type": "code",
   "execution_count": 345,
   "id": "81f8be54",
   "metadata": {},
   "outputs": [],
   "source": [
    "bk_number.remove(4)"
   ]
  },
  {
   "cell_type": "code",
   "execution_count": 346,
   "id": "d302d35d",
   "metadata": {},
   "outputs": [
    {
     "data": {
      "text/plain": [
       "[1, 2, 3, 5]"
      ]
     },
     "execution_count": 346,
     "metadata": {},
     "output_type": "execute_result"
    }
   ],
   "source": [
    "bk_number"
   ]
  },
  {
   "cell_type": "code",
   "execution_count": 347,
   "id": "2bc4d42f",
   "metadata": {},
   "outputs": [
    {
     "data": {
      "text/plain": [
       "[1, 2, 3, 4, 5, 10]"
      ]
     },
     "execution_count": 347,
     "metadata": {},
     "output_type": "execute_result"
    }
   ],
   "source": [
    "number"
   ]
  },
  {
   "cell_type": "code",
   "execution_count": 348,
   "id": "e92c8942",
   "metadata": {},
   "outputs": [],
   "source": [
    "nums=[1,2,[3,4],5]"
   ]
  },
  {
   "cell_type": "code",
   "execution_count": 349,
   "id": "7241349a",
   "metadata": {},
   "outputs": [],
   "source": [
    "nums_bk=nums.copy()"
   ]
  },
  {
   "cell_type": "code",
   "execution_count": 350,
   "id": "20130dd3",
   "metadata": {},
   "outputs": [
    {
     "data": {
      "text/plain": [
       "[1, 2, [3, 4], 5]"
      ]
     },
     "execution_count": 350,
     "metadata": {},
     "output_type": "execute_result"
    }
   ],
   "source": [
    "nums"
   ]
  },
  {
   "cell_type": "code",
   "execution_count": 351,
   "id": "111a21a8",
   "metadata": {},
   "outputs": [
    {
     "data": {
      "text/plain": [
       "[1, 2, [3, 4], 5]"
      ]
     },
     "execution_count": 351,
     "metadata": {},
     "output_type": "execute_result"
    }
   ],
   "source": [
    "nums_bk"
   ]
  },
  {
   "cell_type": "code",
   "execution_count": 352,
   "id": "f92cb443",
   "metadata": {},
   "outputs": [],
   "source": [
    "nums.append(11)"
   ]
  },
  {
   "cell_type": "code",
   "execution_count": 353,
   "id": "fb9839b3",
   "metadata": {},
   "outputs": [
    {
     "data": {
      "text/plain": [
       "[1, 2, [3, 4], 5, 11]"
      ]
     },
     "execution_count": 353,
     "metadata": {},
     "output_type": "execute_result"
    }
   ],
   "source": [
    "nums"
   ]
  },
  {
   "cell_type": "code",
   "execution_count": 354,
   "id": "cf04af75",
   "metadata": {},
   "outputs": [
    {
     "data": {
      "text/plain": [
       "[1, 2, [3, 4], 5]"
      ]
     },
     "execution_count": 354,
     "metadata": {},
     "output_type": "execute_result"
    }
   ],
   "source": [
    "nums_bk"
   ]
  },
  {
   "cell_type": "code",
   "execution_count": 355,
   "id": "0c3c0a76",
   "metadata": {},
   "outputs": [],
   "source": [
    "nums_bk.insert(1,1.5)"
   ]
  },
  {
   "cell_type": "code",
   "execution_count": 356,
   "id": "ac2f5e7e",
   "metadata": {},
   "outputs": [
    {
     "data": {
      "text/plain": [
       "[1, 1.5, 2, [3, 4], 5]"
      ]
     },
     "execution_count": 356,
     "metadata": {},
     "output_type": "execute_result"
    }
   ],
   "source": [
    "nums_bk"
   ]
  },
  {
   "cell_type": "code",
   "execution_count": 357,
   "id": "03133cf3",
   "metadata": {},
   "outputs": [
    {
     "data": {
      "text/plain": [
       "[1, 2, [3, 4], 5, 11]"
      ]
     },
     "execution_count": 357,
     "metadata": {},
     "output_type": "execute_result"
    }
   ],
   "source": [
    "nums"
   ]
  },
  {
   "cell_type": "code",
   "execution_count": 359,
   "id": "6f71488b",
   "metadata": {},
   "outputs": [],
   "source": [
    "nums[2].insert(1,3.5)"
   ]
  },
  {
   "cell_type": "code",
   "execution_count": 360,
   "id": "9ff02658",
   "metadata": {},
   "outputs": [
    {
     "data": {
      "text/plain": [
       "[1, 2, [3, 3.5, 4], 5, 11]"
      ]
     },
     "execution_count": 360,
     "metadata": {},
     "output_type": "execute_result"
    }
   ],
   "source": [
    "nums"
   ]
  },
  {
   "cell_type": "code",
   "execution_count": 361,
   "id": "f19332c4",
   "metadata": {},
   "outputs": [
    {
     "data": {
      "text/plain": [
       "[1, 1.5, 2, [3, 3.5, 4], 5]"
      ]
     },
     "execution_count": 361,
     "metadata": {},
     "output_type": "execute_result"
    }
   ],
   "source": [
    "nums_bk"
   ]
  },
  {
   "cell_type": "code",
   "execution_count": 362,
   "id": "083fcb82",
   "metadata": {},
   "outputs": [],
   "source": [
    "#Shollow Vs Deep Copy"
   ]
  },
  {
   "cell_type": "code",
   "execution_count": 363,
   "id": "b6c2aa0c",
   "metadata": {},
   "outputs": [],
   "source": [
    "nums=[1,2,[3,4],5]"
   ]
  },
  {
   "cell_type": "code",
   "execution_count": 364,
   "id": "6d93202e",
   "metadata": {},
   "outputs": [],
   "source": [
    "import copy"
   ]
  },
  {
   "cell_type": "code",
   "execution_count": 366,
   "id": "685d7295",
   "metadata": {},
   "outputs": [],
   "source": [
    "s_nums=copy.copy(nums)"
   ]
  },
  {
   "cell_type": "code",
   "execution_count": 367,
   "id": "a2270f85",
   "metadata": {},
   "outputs": [
    {
     "data": {
      "text/plain": [
       "[1, 2, [3, 4], 5]"
      ]
     },
     "execution_count": 367,
     "metadata": {},
     "output_type": "execute_result"
    }
   ],
   "source": [
    "nums"
   ]
  },
  {
   "cell_type": "code",
   "execution_count": 368,
   "id": "34b1171e",
   "metadata": {},
   "outputs": [
    {
     "data": {
      "text/plain": [
       "[1, 2, [3, 4], 5]"
      ]
     },
     "execution_count": 368,
     "metadata": {},
     "output_type": "execute_result"
    }
   ],
   "source": [
    "s_nums"
   ]
  },
  {
   "cell_type": "code",
   "execution_count": 369,
   "id": "f38bbf78",
   "metadata": {},
   "outputs": [],
   "source": [
    "s_nums.append(5.5)"
   ]
  },
  {
   "cell_type": "code",
   "execution_count": 370,
   "id": "82d222ea",
   "metadata": {},
   "outputs": [
    {
     "data": {
      "text/plain": [
       "[1, 2, [3, 4], 5, 5.5]"
      ]
     },
     "execution_count": 370,
     "metadata": {},
     "output_type": "execute_result"
    }
   ],
   "source": [
    "s_nums"
   ]
  },
  {
   "cell_type": "code",
   "execution_count": 371,
   "id": "64d24b53",
   "metadata": {},
   "outputs": [
    {
     "data": {
      "text/plain": [
       "[1, 2, [3, 4], 5]"
      ]
     },
     "execution_count": 371,
     "metadata": {},
     "output_type": "execute_result"
    }
   ],
   "source": [
    "nums"
   ]
  },
  {
   "cell_type": "code",
   "execution_count": 373,
   "id": "54080976",
   "metadata": {},
   "outputs": [],
   "source": [
    "nums[2].remove(4)"
   ]
  },
  {
   "cell_type": "code",
   "execution_count": 374,
   "id": "13d626c6",
   "metadata": {},
   "outputs": [
    {
     "data": {
      "text/plain": [
       "[1, 2, [3], 5]"
      ]
     },
     "execution_count": 374,
     "metadata": {},
     "output_type": "execute_result"
    }
   ],
   "source": [
    "nums"
   ]
  },
  {
   "cell_type": "code",
   "execution_count": 375,
   "id": "fca43e70",
   "metadata": {},
   "outputs": [
    {
     "data": {
      "text/plain": [
       "[1, 2, [3], 5, 5.5]"
      ]
     },
     "execution_count": 375,
     "metadata": {},
     "output_type": "execute_result"
    }
   ],
   "source": [
    "s_nums"
   ]
  },
  {
   "cell_type": "code",
   "execution_count": 376,
   "id": "db015f0b",
   "metadata": {},
   "outputs": [],
   "source": [
    "nums=[1,2,[3,4],5]"
   ]
  },
  {
   "cell_type": "code",
   "execution_count": 377,
   "id": "fc0a93cb",
   "metadata": {},
   "outputs": [],
   "source": [
    "d_nums=copy.deepcopy(nums)"
   ]
  },
  {
   "cell_type": "code",
   "execution_count": 378,
   "id": "1bb25faa",
   "metadata": {},
   "outputs": [
    {
     "data": {
      "text/plain": [
       "[1, 2, [3, 4], 5]"
      ]
     },
     "execution_count": 378,
     "metadata": {},
     "output_type": "execute_result"
    }
   ],
   "source": [
    "nums"
   ]
  },
  {
   "cell_type": "code",
   "execution_count": 379,
   "id": "487f2970",
   "metadata": {},
   "outputs": [
    {
     "data": {
      "text/plain": [
       "[1, 2, [3, 4], 5]"
      ]
     },
     "execution_count": 379,
     "metadata": {},
     "output_type": "execute_result"
    }
   ],
   "source": [
    "d_nums"
   ]
  },
  {
   "cell_type": "code",
   "execution_count": 380,
   "id": "abc5a208",
   "metadata": {},
   "outputs": [],
   "source": [
    "nums.append(1001)"
   ]
  },
  {
   "cell_type": "code",
   "execution_count": 381,
   "id": "94686139",
   "metadata": {},
   "outputs": [
    {
     "data": {
      "text/plain": [
       "[1, 2, [3, 4], 5, 1001]"
      ]
     },
     "execution_count": 381,
     "metadata": {},
     "output_type": "execute_result"
    }
   ],
   "source": [
    "nums"
   ]
  },
  {
   "cell_type": "code",
   "execution_count": 382,
   "id": "2c69db8c",
   "metadata": {},
   "outputs": [
    {
     "data": {
      "text/plain": [
       "[1, 2, [3, 4], 5]"
      ]
     },
     "execution_count": 382,
     "metadata": {},
     "output_type": "execute_result"
    }
   ],
   "source": [
    "d_nums"
   ]
  },
  {
   "cell_type": "code",
   "execution_count": 384,
   "id": "21156992",
   "metadata": {},
   "outputs": [],
   "source": [
    "d_nums.extend([100,200])"
   ]
  },
  {
   "cell_type": "code",
   "execution_count": 385,
   "id": "f492fe3a",
   "metadata": {},
   "outputs": [
    {
     "data": {
      "text/plain": [
       "[1, 2, [3, 4], 5, 100, 200]"
      ]
     },
     "execution_count": 385,
     "metadata": {},
     "output_type": "execute_result"
    }
   ],
   "source": [
    "d_nums"
   ]
  },
  {
   "cell_type": "code",
   "execution_count": 386,
   "id": "a7433db7",
   "metadata": {},
   "outputs": [
    {
     "data": {
      "text/plain": [
       "[1, 2, [3, 4], 5, 1001]"
      ]
     },
     "execution_count": 386,
     "metadata": {},
     "output_type": "execute_result"
    }
   ],
   "source": [
    "nums"
   ]
  },
  {
   "cell_type": "code",
   "execution_count": 387,
   "id": "0f30a233",
   "metadata": {},
   "outputs": [],
   "source": [
    "nums.remove(2)"
   ]
  },
  {
   "cell_type": "code",
   "execution_count": 388,
   "id": "d945a239",
   "metadata": {},
   "outputs": [
    {
     "data": {
      "text/plain": [
       "[1, [3, 4], 5, 1001]"
      ]
     },
     "execution_count": 388,
     "metadata": {},
     "output_type": "execute_result"
    }
   ],
   "source": [
    "nums"
   ]
  },
  {
   "cell_type": "code",
   "execution_count": 389,
   "id": "7df225fe",
   "metadata": {},
   "outputs": [
    {
     "data": {
      "text/plain": [
       "[1, 2, [3, 4], 5, 100, 200]"
      ]
     },
     "execution_count": 389,
     "metadata": {},
     "output_type": "execute_result"
    }
   ],
   "source": [
    "d_nums"
   ]
  },
  {
   "cell_type": "code",
   "execution_count": 391,
   "id": "ef5d93f5",
   "metadata": {},
   "outputs": [],
   "source": [
    "d_nums[2].remove(4)"
   ]
  },
  {
   "cell_type": "code",
   "execution_count": 392,
   "id": "07fe6261",
   "metadata": {},
   "outputs": [
    {
     "data": {
      "text/plain": [
       "[1, 2, [3], 5, 100, 200]"
      ]
     },
     "execution_count": 392,
     "metadata": {},
     "output_type": "execute_result"
    }
   ],
   "source": [
    "d_nums"
   ]
  },
  {
   "cell_type": "code",
   "execution_count": 393,
   "id": "6a71f2ca",
   "metadata": {},
   "outputs": [
    {
     "data": {
      "text/plain": [
       "[1, [3, 4], 5, 1001]"
      ]
     },
     "execution_count": 393,
     "metadata": {},
     "output_type": "execute_result"
    }
   ],
   "source": [
    "nums"
   ]
  },
  {
   "cell_type": "code",
   "execution_count": 394,
   "id": "be69ea90",
   "metadata": {},
   "outputs": [],
   "source": [
    "# TUPLE"
   ]
  },
  {
   "cell_type": "code",
   "execution_count": 396,
   "id": "ca4aacd6",
   "metadata": {},
   "outputs": [],
   "source": [
    "numbers=(1,2,3,4,5)"
   ]
  },
  {
   "cell_type": "code",
   "execution_count": 397,
   "id": "38b6bb2c",
   "metadata": {},
   "outputs": [
    {
     "name": "stdout",
     "output_type": "stream",
     "text": [
      "['__add__', '__class__', '__contains__', '__delattr__', '__dir__', '__doc__', '__eq__', '__format__', '__ge__', '__getattribute__', '__getitem__', '__getnewargs__', '__gt__', '__hash__', '__init__', '__init_subclass__', '__iter__', '__le__', '__len__', '__lt__', '__mul__', '__ne__', '__new__', '__reduce__', '__reduce_ex__', '__repr__', '__rmul__', '__setattr__', '__sizeof__', '__str__', '__subclasshook__', 'count', 'index']\n"
     ]
    }
   ],
   "source": [
    "print(dir(numbers))"
   ]
  },
  {
   "cell_type": "code",
   "execution_count": 398,
   "id": "09bc0bad",
   "metadata": {},
   "outputs": [
    {
     "data": {
      "text/plain": [
       "96"
      ]
     },
     "execution_count": 398,
     "metadata": {},
     "output_type": "execute_result"
    }
   ],
   "source": [
    "# LIST VS TUPLE\n",
    "\n",
    "import sys\n",
    "\n",
    "sys.getsizeof([1,2,3,4,5])"
   ]
  },
  {
   "cell_type": "code",
   "execution_count": 399,
   "id": "8e800c99",
   "metadata": {},
   "outputs": [
    {
     "data": {
      "text/plain": [
       "80"
      ]
     },
     "execution_count": 399,
     "metadata": {},
     "output_type": "execute_result"
    }
   ],
   "source": [
    "sys.getsizeof((1,2,3,4,5))"
   ]
  },
  {
   "cell_type": "code",
   "execution_count": 400,
   "id": "945f68d6",
   "metadata": {},
   "outputs": [],
   "source": [
    "import timeit"
   ]
  },
  {
   "cell_type": "code",
   "execution_count": 402,
   "id": "7dc5041b",
   "metadata": {},
   "outputs": [
    {
     "data": {
      "text/plain": [
       "54.46519999895827"
      ]
     },
     "execution_count": 402,
     "metadata": {},
     "output_type": "execute_result"
    }
   ],
   "source": [
    "timeit.timeit(stmt=\"[1,2,3,4,5,6,7,8,9,10]\", number=1000000)*1000"
   ]
  },
  {
   "cell_type": "code",
   "execution_count": 403,
   "id": "4b06f4d1",
   "metadata": {},
   "outputs": [
    {
     "data": {
      "text/plain": [
       "5.1215000021329615"
      ]
     },
     "execution_count": 403,
     "metadata": {},
     "output_type": "execute_result"
    }
   ],
   "source": [
    "timeit.timeit(stmt=\"(1,2,3,4,5,6,7,8,9,10)\", number=1000000)*1000"
   ]
  },
  {
   "cell_type": "markdown",
   "id": "97ff826a",
   "metadata": {},
   "source": [
    "# LIST COMPREHENSIONS"
   ]
  },
  {
   "cell_type": "code",
   "execution_count": null,
   "id": "f85dba1e",
   "metadata": {},
   "outputs": [],
   "source": [
    "[expr for val in collection]\n",
    "[expr for val in collection  if cond]\n",
    "[expr for val in collection if cond and cond2]\n",
    "[expr for val in collection val in collection2]"
   ]
  },
  {
   "cell_type": "code",
   "execution_count": 404,
   "id": "ef25f476",
   "metadata": {},
   "outputs": [
    {
     "data": {
      "text/plain": [
       "[1, 4, 9, 16, 25, 36, 49, 64, 81, 100]"
      ]
     },
     "execution_count": 404,
     "metadata": {},
     "output_type": "execute_result"
    }
   ],
   "source": [
    "[x**2  for x in [1,2,3,4,5,6,7,8,9,10]]"
   ]
  },
  {
   "cell_type": "code",
   "execution_count": 406,
   "id": "2a1cd4ed",
   "metadata": {},
   "outputs": [
    {
     "data": {
      "text/plain": [
       "[2, 4, 6, 8, 10]"
      ]
     },
     "execution_count": 406,
     "metadata": {},
     "output_type": "execute_result"
    }
   ],
   "source": [
    "[ x for x in [1,2,3,4,5,6,7,8,9,10] if x%2==0]"
   ]
  },
  {
   "cell_type": "code",
   "execution_count": 407,
   "id": "47f00a36",
   "metadata": {},
   "outputs": [
    {
     "data": {
      "text/plain": [
       "[1, 3, 5, 7, 9]"
      ]
     },
     "execution_count": 407,
     "metadata": {},
     "output_type": "execute_result"
    }
   ],
   "source": [
    "[ x for x in [1,2,3,4,5,6,7,8,9,10] if x%2==1]"
   ]
  },
  {
   "cell_type": "code",
   "execution_count": 408,
   "id": "98822aa3",
   "metadata": {},
   "outputs": [
    {
     "data": {
      "text/plain": [
       "[6, 8, 10]"
      ]
     },
     "execution_count": 408,
     "metadata": {},
     "output_type": "execute_result"
    }
   ],
   "source": [
    "[ x for x in [1,2,3,4,5,6,7,8,9,10] if x%2==0 and x>5]"
   ]
  },
  {
   "cell_type": "code",
   "execution_count": 409,
   "id": "85157993",
   "metadata": {},
   "outputs": [
    {
     "data": {
      "text/plain": [
       "[7, 9, 11, 13, 15]"
      ]
     },
     "execution_count": 409,
     "metadata": {},
     "output_type": "execute_result"
    }
   ],
   "source": [
    "num=[1,2,3,4,5]\n",
    "num1=[6,7,8,9,10]\n",
    "\n",
    "[x+y for x,y in zip(num, num1)]"
   ]
  },
  {
   "cell_type": "code",
   "execution_count": 411,
   "id": "f10e21de",
   "metadata": {},
   "outputs": [
    {
     "data": {
      "text/plain": [
       "[(1, 6),\n",
       " (1, 7),\n",
       " (1, 8),\n",
       " (1, 9),\n",
       " (1, 10),\n",
       " (2, 6),\n",
       " (2, 7),\n",
       " (2, 8),\n",
       " (2, 9),\n",
       " (2, 10),\n",
       " (3, 6),\n",
       " (3, 7),\n",
       " (3, 8),\n",
       " (3, 9),\n",
       " (3, 10),\n",
       " (4, 6),\n",
       " (4, 7),\n",
       " (4, 8),\n",
       " (4, 9),\n",
       " (4, 10),\n",
       " (5, 6),\n",
       " (5, 7),\n",
       " (5, 8),\n",
       " (5, 9),\n",
       " (5, 10)]"
      ]
     },
     "execution_count": 411,
     "metadata": {},
     "output_type": "execute_result"
    }
   ],
   "source": [
    "[(x,y) for x in num for y in num1]"
   ]
  },
  {
   "cell_type": "markdown",
   "id": "29f2a3fa",
   "metadata": {},
   "source": [
    "# DEFINITION"
   ]
  },
  {
   "cell_type": "code",
   "execution_count": 412,
   "id": "c366faec",
   "metadata": {},
   "outputs": [],
   "source": [
    "def add_nums(x,y):\n",
    "    res=x+y\n",
    "    return res"
   ]
  },
  {
   "cell_type": "code",
   "execution_count": 413,
   "id": "37e29b27",
   "metadata": {},
   "outputs": [
    {
     "data": {
      "text/plain": [
       "30"
      ]
     },
     "execution_count": 413,
     "metadata": {},
     "output_type": "execute_result"
    }
   ],
   "source": [
    "add_nums(10,20)"
   ]
  },
  {
   "cell_type": "code",
   "execution_count": 414,
   "id": "025a754a",
   "metadata": {},
   "outputs": [
    {
     "ename": "TypeError",
     "evalue": "add_nums() missing 1 required positional argument: 'y'",
     "output_type": "error",
     "traceback": [
      "\u001b[1;31m---------------------------------------------------------------------------\u001b[0m",
      "\u001b[1;31mTypeError\u001b[0m                                 Traceback (most recent call last)",
      "Input \u001b[1;32mIn [414]\u001b[0m, in \u001b[0;36m<cell line: 1>\u001b[1;34m()\u001b[0m\n\u001b[1;32m----> 1\u001b[0m \u001b[43madd_nums\u001b[49m\u001b[43m(\u001b[49m\u001b[38;5;241;43m10\u001b[39;49m\u001b[43m)\u001b[49m\n",
      "\u001b[1;31mTypeError\u001b[0m: add_nums() missing 1 required positional argument: 'y'"
     ]
    }
   ],
   "source": [
    "add_nums(10)"
   ]
  },
  {
   "cell_type": "code",
   "execution_count": 415,
   "id": "32d59968",
   "metadata": {},
   "outputs": [],
   "source": [
    "def add_nums(x,y=0):   #default variable\n",
    "    res=x+y\n",
    "    return res"
   ]
  },
  {
   "cell_type": "code",
   "execution_count": 416,
   "id": "42545d30",
   "metadata": {},
   "outputs": [
    {
     "data": {
      "text/plain": [
       "11"
      ]
     },
     "execution_count": 416,
     "metadata": {},
     "output_type": "execute_result"
    }
   ],
   "source": [
    "add_nums(5,6)"
   ]
  },
  {
   "cell_type": "code",
   "execution_count": 417,
   "id": "a631e9da",
   "metadata": {},
   "outputs": [
    {
     "data": {
      "text/plain": [
       "10"
      ]
     },
     "execution_count": 417,
     "metadata": {},
     "output_type": "execute_result"
    }
   ],
   "source": [
    "add_nums(10)"
   ]
  },
  {
   "cell_type": "code",
   "execution_count": 418,
   "id": "2b4ae81b",
   "metadata": {},
   "outputs": [
    {
     "ename": "TypeError",
     "evalue": "add_nums() missing 1 required positional argument: 'x'",
     "output_type": "error",
     "traceback": [
      "\u001b[1;31m---------------------------------------------------------------------------\u001b[0m",
      "\u001b[1;31mTypeError\u001b[0m                                 Traceback (most recent call last)",
      "Input \u001b[1;32mIn [418]\u001b[0m, in \u001b[0;36m<cell line: 1>\u001b[1;34m()\u001b[0m\n\u001b[1;32m----> 1\u001b[0m \u001b[43madd_nums\u001b[49m\u001b[43m(\u001b[49m\u001b[43m)\u001b[49m\n",
      "\u001b[1;31mTypeError\u001b[0m: add_nums() missing 1 required positional argument: 'x'"
     ]
    }
   ],
   "source": [
    "add_nums()"
   ]
  },
  {
   "cell_type": "code",
   "execution_count": 419,
   "id": "76ff26a3",
   "metadata": {},
   "outputs": [],
   "source": [
    "def add_nums(x=0,y=0):   #default variable\n",
    "    res=x+y\n",
    "    return res"
   ]
  },
  {
   "cell_type": "code",
   "execution_count": 420,
   "id": "2c79a354",
   "metadata": {},
   "outputs": [
    {
     "data": {
      "text/plain": [
       "0"
      ]
     },
     "execution_count": 420,
     "metadata": {},
     "output_type": "execute_result"
    }
   ],
   "source": [
    "add_nums()"
   ]
  },
  {
   "cell_type": "code",
   "execution_count": 421,
   "id": "d20d5b4a",
   "metadata": {},
   "outputs": [
    {
     "data": {
      "text/plain": [
       "1"
      ]
     },
     "execution_count": 421,
     "metadata": {},
     "output_type": "execute_result"
    }
   ],
   "source": [
    "add_nums(1)"
   ]
  },
  {
   "cell_type": "code",
   "execution_count": 422,
   "id": "b322b46a",
   "metadata": {},
   "outputs": [
    {
     "data": {
      "text/plain": [
       "3"
      ]
     },
     "execution_count": 422,
     "metadata": {},
     "output_type": "execute_result"
    }
   ],
   "source": [
    "add_nums(1,2)"
   ]
  },
  {
   "cell_type": "code",
   "execution_count": 424,
   "id": "3830da25",
   "metadata": {},
   "outputs": [
    {
     "ename": "TypeError",
     "evalue": "add_nums() takes from 0 to 2 positional arguments but 5 were given",
     "output_type": "error",
     "traceback": [
      "\u001b[1;31m---------------------------------------------------------------------------\u001b[0m",
      "\u001b[1;31mTypeError\u001b[0m                                 Traceback (most recent call last)",
      "Input \u001b[1;32mIn [424]\u001b[0m, in \u001b[0;36m<cell line: 1>\u001b[1;34m()\u001b[0m\n\u001b[1;32m----> 1\u001b[0m \u001b[43madd_nums\u001b[49m\u001b[43m(\u001b[49m\u001b[38;5;241;43m10\u001b[39;49m\u001b[43m,\u001b[49m\u001b[38;5;241;43m20\u001b[39;49m\u001b[43m,\u001b[49m\u001b[38;5;241;43m30\u001b[39;49m\u001b[43m,\u001b[49m\u001b[38;5;241;43m40\u001b[39;49m\u001b[43m,\u001b[49m\u001b[38;5;241;43m50\u001b[39;49m\u001b[43m)\u001b[49m\n",
      "\u001b[1;31mTypeError\u001b[0m: add_nums() takes from 0 to 2 positional arguments but 5 were given"
     ]
    }
   ],
   "source": [
    "add_nums(10,20,30,40,50)"
   ]
  },
  {
   "cell_type": "code",
   "execution_count": 432,
   "id": "2c22ce7d",
   "metadata": {},
   "outputs": [],
   "source": [
    "def add_nums(x,y,*z):   \n",
    "    #res=x+y\n",
    "    #return res\n",
    "    #print(x)\n",
    "    #print(y)\n",
    "    #print(z)\n",
    "    return x+y+sum(z)"
   ]
  },
  {
   "cell_type": "code",
   "execution_count": 435,
   "id": "ba570fc1",
   "metadata": {},
   "outputs": [
    {
     "data": {
      "text/plain": [
       "3550"
      ]
     },
     "execution_count": 435,
     "metadata": {},
     "output_type": "execute_result"
    }
   ],
   "source": [
    "add_nums(10,20,30,40,50,60,70,80,90,100,1000,2000)"
   ]
  },
  {
   "cell_type": "code",
   "execution_count": 430,
   "id": "2a34a393",
   "metadata": {},
   "outputs": [
    {
     "name": "stdout",
     "output_type": "stream",
     "text": [
      "10\n",
      "20\n",
      "(30,)\n"
     ]
    }
   ],
   "source": [
    "add_nums(10,20,30)"
   ]
  },
  {
   "cell_type": "code",
   "execution_count": 431,
   "id": "0952f588",
   "metadata": {},
   "outputs": [
    {
     "name": "stdout",
     "output_type": "stream",
     "text": [
      "10\n",
      "20\n",
      "()\n"
     ]
    }
   ],
   "source": [
    "add_nums(10,20)"
   ]
  },
  {
   "cell_type": "code",
   "execution_count": 436,
   "id": "6990f783",
   "metadata": {},
   "outputs": [],
   "source": [
    "def add_nums(x,y,*z,**r):   \n",
    "    print(r)\n",
    "    return x+y+sum(z)"
   ]
  },
  {
   "cell_type": "code",
   "execution_count": 437,
   "id": "b22c2c9f",
   "metadata": {},
   "outputs": [
    {
     "name": "stdout",
     "output_type": "stream",
     "text": [
      "{'name': 'Raghul Ramesh', 'tech': 'Python', 'location': 'Chennai'}\n"
     ]
    },
    {
     "data": {
      "text/plain": [
       "6300"
      ]
     },
     "execution_count": 437,
     "metadata": {},
     "output_type": "execute_result"
    }
   ],
   "source": [
    "add_nums(100,200,1000,2000,3000,name='Raghul Ramesh',tech='Python',location='Chennai')"
   ]
  },
  {
   "cell_type": "markdown",
   "id": "92c39a18",
   "metadata": {},
   "source": [
    "# DICTIONARY"
   ]
  },
  {
   "cell_type": "code",
   "execution_count": 441,
   "id": "b944e1d7",
   "metadata": {},
   "outputs": [],
   "source": [
    "info={'day':'Monday','year':2022,'month':'May','tech':'Python'}"
   ]
  },
  {
   "cell_type": "code",
   "execution_count": 442,
   "id": "decb49b4",
   "metadata": {},
   "outputs": [
    {
     "data": {
      "text/plain": [
       "dict"
      ]
     },
     "execution_count": 442,
     "metadata": {},
     "output_type": "execute_result"
    }
   ],
   "source": [
    "type(info)"
   ]
  },
  {
   "cell_type": "code",
   "execution_count": 443,
   "id": "c03c0a11",
   "metadata": {},
   "outputs": [
    {
     "data": {
      "text/plain": [
       "2022"
      ]
     },
     "execution_count": 443,
     "metadata": {},
     "output_type": "execute_result"
    }
   ],
   "source": [
    "info['year']"
   ]
  },
  {
   "cell_type": "code",
   "execution_count": 444,
   "id": "94e33277",
   "metadata": {},
   "outputs": [
    {
     "data": {
      "text/plain": [
       "'Python'"
      ]
     },
     "execution_count": 444,
     "metadata": {},
     "output_type": "execute_result"
    }
   ],
   "source": [
    "info['tech']"
   ]
  },
  {
   "cell_type": "code",
   "execution_count": 445,
   "id": "80114118",
   "metadata": {},
   "outputs": [
    {
     "name": "stdout",
     "output_type": "stream",
     "text": [
      "{'day': 'Monday', 'year': 2022, 'month': 'May', 'tech': 'Python'}\n"
     ]
    }
   ],
   "source": [
    "print(info)"
   ]
  },
  {
   "cell_type": "code",
   "execution_count": 447,
   "id": "1e66897d",
   "metadata": {},
   "outputs": [],
   "source": [
    "info['tech']='Pytest'"
   ]
  },
  {
   "cell_type": "code",
   "execution_count": 448,
   "id": "558e2ff1",
   "metadata": {},
   "outputs": [
    {
     "name": "stdout",
     "output_type": "stream",
     "text": [
      "{'day': 'Monday', 'year': 2022, 'month': 'May', 'tech': 'Pytest'}\n"
     ]
    }
   ],
   "source": [
    "print(info)"
   ]
  },
  {
   "cell_type": "code",
   "execution_count": 449,
   "id": "1b84b953",
   "metadata": {},
   "outputs": [],
   "source": [
    "info['location']='Chennai'"
   ]
  },
  {
   "cell_type": "code",
   "execution_count": 450,
   "id": "a118d02f",
   "metadata": {},
   "outputs": [
    {
     "name": "stdout",
     "output_type": "stream",
     "text": [
      "{'day': 'Monday', 'year': 2022, 'month': 'May', 'tech': 'Pytest', 'location': 'Chennai'}\n"
     ]
    }
   ],
   "source": [
    "print(info)"
   ]
  },
  {
   "cell_type": "code",
   "execution_count": 451,
   "id": "ed7fa2e7",
   "metadata": {},
   "outputs": [],
   "source": [
    "info.update({'tech':'Python','location':'Gurgoan','Manager':'Levin Lenus','Salary':1000})"
   ]
  },
  {
   "cell_type": "code",
   "execution_count": 452,
   "id": "40fc3027",
   "metadata": {},
   "outputs": [
    {
     "name": "stdout",
     "output_type": "stream",
     "text": [
      "{'day': 'Monday', 'year': 2022, 'month': 'May', 'tech': 'Python', 'location': 'Gurgoan', 'Manager': 'Levin Lenus', 'Salary': 1000}\n"
     ]
    }
   ],
   "source": [
    "print(info)"
   ]
  },
  {
   "cell_type": "code",
   "execution_count": 453,
   "id": "e7b5d3f8",
   "metadata": {
    "scrolled": true
   },
   "outputs": [
    {
     "ename": "KeyError",
     "evalue": "'Designation'",
     "output_type": "error",
     "traceback": [
      "\u001b[1;31m---------------------------------------------------------------------------\u001b[0m",
      "\u001b[1;31mKeyError\u001b[0m                                  Traceback (most recent call last)",
      "Input \u001b[1;32mIn [453]\u001b[0m, in \u001b[0;36m<cell line: 1>\u001b[1;34m()\u001b[0m\n\u001b[1;32m----> 1\u001b[0m \u001b[43minfo\u001b[49m\u001b[43m[\u001b[49m\u001b[38;5;124;43m'\u001b[39;49m\u001b[38;5;124;43mDesignation\u001b[39;49m\u001b[38;5;124;43m'\u001b[39;49m\u001b[43m]\u001b[49m\n",
      "\u001b[1;31mKeyError\u001b[0m: 'Designation'"
     ]
    }
   ],
   "source": [
    "info['Designation']"
   ]
  },
  {
   "cell_type": "code",
   "execution_count": 457,
   "id": "a1c18a69",
   "metadata": {},
   "outputs": [
    {
     "data": {
      "text/plain": [
       "'Levin Lenus'"
      ]
     },
     "execution_count": 457,
     "metadata": {},
     "output_type": "execute_result"
    }
   ],
   "source": [
    "info.get('Manager')"
   ]
  },
  {
   "cell_type": "code",
   "execution_count": 458,
   "id": "55a35cfe",
   "metadata": {},
   "outputs": [],
   "source": [
    "info.get('Designation')"
   ]
  },
  {
   "cell_type": "code",
   "execution_count": 459,
   "id": "88fa0725",
   "metadata": {},
   "outputs": [
    {
     "data": {
      "text/plain": [
       "'Not Exists'"
      ]
     },
     "execution_count": 459,
     "metadata": {},
     "output_type": "execute_result"
    }
   ],
   "source": [
    "info.get('Designation','Not Exists')"
   ]
  },
  {
   "cell_type": "code",
   "execution_count": 460,
   "id": "7c73826a",
   "metadata": {},
   "outputs": [
    {
     "data": {
      "text/plain": [
       "'Python'"
      ]
     },
     "execution_count": 460,
     "metadata": {},
     "output_type": "execute_result"
    }
   ],
   "source": [
    "info.get('tech','Not Exists')"
   ]
  },
  {
   "cell_type": "code",
   "execution_count": 461,
   "id": "19bfb16f",
   "metadata": {},
   "outputs": [
    {
     "name": "stdout",
     "output_type": "stream",
     "text": [
      "{'day': 'Monday', 'year': 2022, 'month': 'May', 'tech': 'Python', 'location': 'Gurgoan', 'Manager': 'Levin Lenus', 'Salary': 1000}\n"
     ]
    }
   ],
   "source": [
    "print(info)"
   ]
  },
  {
   "cell_type": "code",
   "execution_count": 462,
   "id": "99ecf9fe",
   "metadata": {},
   "outputs": [
    {
     "data": {
      "text/plain": [
       "'Python'"
      ]
     },
     "execution_count": 462,
     "metadata": {},
     "output_type": "execute_result"
    }
   ],
   "source": [
    "info.setdefault('tech')"
   ]
  },
  {
   "cell_type": "code",
   "execution_count": 463,
   "id": "6711db7a",
   "metadata": {},
   "outputs": [
    {
     "data": {
      "text/plain": [
       "'NA'"
      ]
     },
     "execution_count": 463,
     "metadata": {},
     "output_type": "execute_result"
    }
   ],
   "source": [
    "info.setdefault('Designation','NA')"
   ]
  },
  {
   "cell_type": "code",
   "execution_count": 464,
   "id": "e64c4c86",
   "metadata": {},
   "outputs": [
    {
     "name": "stdout",
     "output_type": "stream",
     "text": [
      "{'day': 'Monday', 'year': 2022, 'month': 'May', 'tech': 'Python', 'location': 'Gurgoan', 'Manager': 'Levin Lenus', 'Salary': 1000, 'Designation': 'NA'}\n"
     ]
    }
   ],
   "source": [
    "print(info)"
   ]
  },
  {
   "cell_type": "code",
   "execution_count": 466,
   "id": "0c0fedd1",
   "metadata": {},
   "outputs": [
    {
     "data": {
      "text/plain": [
       "'NA'"
      ]
     },
     "execution_count": 466,
     "metadata": {},
     "output_type": "execute_result"
    }
   ],
   "source": [
    "info.pop('Designation')"
   ]
  },
  {
   "cell_type": "code",
   "execution_count": 467,
   "id": "5bf26ecf",
   "metadata": {},
   "outputs": [
    {
     "name": "stdout",
     "output_type": "stream",
     "text": [
      "{'day': 'Monday', 'year': 2022, 'month': 'May', 'tech': 'Python', 'location': 'Gurgoan', 'Manager': 'Levin Lenus', 'Salary': 1000}\n"
     ]
    }
   ],
   "source": [
    "print(info)"
   ]
  },
  {
   "cell_type": "code",
   "execution_count": 468,
   "id": "14c94100",
   "metadata": {},
   "outputs": [
    {
     "data": {
      "text/plain": [
       "'Levin Lenus'"
      ]
     },
     "execution_count": 468,
     "metadata": {},
     "output_type": "execute_result"
    }
   ],
   "source": [
    "info.pop('Manager')"
   ]
  },
  {
   "cell_type": "code",
   "execution_count": 469,
   "id": "ea3d1327",
   "metadata": {},
   "outputs": [
    {
     "name": "stdout",
     "output_type": "stream",
     "text": [
      "{'day': 'Monday', 'year': 2022, 'month': 'May', 'tech': 'Python', 'location': 'Gurgoan', 'Salary': 1000}\n"
     ]
    }
   ],
   "source": [
    "print(info)"
   ]
  },
  {
   "cell_type": "code",
   "execution_count": 470,
   "id": "d0f3d3ad",
   "metadata": {},
   "outputs": [
    {
     "data": {
      "text/plain": [
       "('Salary', 1000)"
      ]
     },
     "execution_count": 470,
     "metadata": {},
     "output_type": "execute_result"
    }
   ],
   "source": [
    "info.popitem()"
   ]
  },
  {
   "cell_type": "code",
   "execution_count": 472,
   "id": "bf93d9af",
   "metadata": {},
   "outputs": [
    {
     "data": {
      "text/plain": [
       "2022"
      ]
     },
     "execution_count": 472,
     "metadata": {},
     "output_type": "execute_result"
    }
   ],
   "source": [
    "info.pop('year')"
   ]
  },
  {
   "cell_type": "code",
   "execution_count": 474,
   "id": "3f0bc861",
   "metadata": {},
   "outputs": [
    {
     "data": {
      "text/plain": [
       "{'day': 'Monday', 'month': 'May', 'tech': 'Python', 'location': 'Gurgoan'}"
      ]
     },
     "execution_count": 474,
     "metadata": {},
     "output_type": "execute_result"
    }
   ],
   "source": [
    "info"
   ]
  },
  {
   "cell_type": "code",
   "execution_count": 476,
   "id": "8f93ba45",
   "metadata": {},
   "outputs": [],
   "source": [
    "info.clear()"
   ]
  },
  {
   "cell_type": "code",
   "execution_count": 477,
   "id": "24fcb21d",
   "metadata": {},
   "outputs": [
    {
     "data": {
      "text/plain": [
       "{}"
      ]
     },
     "execution_count": 477,
     "metadata": {},
     "output_type": "execute_result"
    }
   ],
   "source": [
    "info"
   ]
  },
  {
   "cell_type": "code",
   "execution_count": 478,
   "id": "56934d8d",
   "metadata": {},
   "outputs": [
    {
     "name": "stdout",
     "output_type": "stream",
     "text": [
      "['__class__', '__contains__', '__delattr__', '__delitem__', '__dir__', '__doc__', '__eq__', '__format__', '__ge__', '__getattribute__', '__getitem__', '__gt__', '__hash__', '__init__', '__init_subclass__', '__iter__', '__le__', '__len__', '__lt__', '__ne__', '__new__', '__reduce__', '__reduce_ex__', '__repr__', '__reversed__', '__setattr__', '__setitem__', '__sizeof__', '__str__', '__subclasshook__', 'clear', 'copy', 'fromkeys', 'get', 'items', 'keys', 'pop', 'popitem', 'setdefault', 'update', 'values']\n"
     ]
    }
   ],
   "source": [
    "print(dir(info))"
   ]
  },
  {
   "cell_type": "code",
   "execution_count": 479,
   "id": "218f531c",
   "metadata": {},
   "outputs": [],
   "source": [
    "info={'day': 'Monday', 'year': 2022, 'month': 'May', 'tech': 'Python', 'location': 'Gurgoan', 'Manager': 'Levin Lenus', 'Salary': 1000}"
   ]
  },
  {
   "cell_type": "code",
   "execution_count": 480,
   "id": "622599a7",
   "metadata": {},
   "outputs": [
    {
     "name": "stdout",
     "output_type": "stream",
     "text": [
      "{'day': 'Monday', 'year': 2022, 'month': 'May', 'tech': 'Python', 'location': 'Gurgoan', 'Manager': 'Levin Lenus', 'Salary': 1000}\n"
     ]
    }
   ],
   "source": [
    "print(info)"
   ]
  },
  {
   "cell_type": "code",
   "execution_count": 481,
   "id": "7a459100",
   "metadata": {},
   "outputs": [
    {
     "data": {
      "text/plain": [
       "dict_keys(['day', 'year', 'month', 'tech', 'location', 'Manager', 'Salary'])"
      ]
     },
     "execution_count": 481,
     "metadata": {},
     "output_type": "execute_result"
    }
   ],
   "source": [
    "info.keys()"
   ]
  },
  {
   "cell_type": "code",
   "execution_count": 482,
   "id": "3fa1b9d8",
   "metadata": {},
   "outputs": [
    {
     "data": {
      "text/plain": [
       "dict_values(['Monday', 2022, 'May', 'Python', 'Gurgoan', 'Levin Lenus', 1000])"
      ]
     },
     "execution_count": 482,
     "metadata": {},
     "output_type": "execute_result"
    }
   ],
   "source": [
    "info.values()"
   ]
  },
  {
   "cell_type": "code",
   "execution_count": 483,
   "id": "bde5d884",
   "metadata": {},
   "outputs": [
    {
     "data": {
      "text/plain": [
       "dict_items([('day', 'Monday'), ('year', 2022), ('month', 'May'), ('tech', 'Python'), ('location', 'Gurgoan'), ('Manager', 'Levin Lenus'), ('Salary', 1000)])"
      ]
     },
     "execution_count": 483,
     "metadata": {},
     "output_type": "execute_result"
    }
   ],
   "source": [
    "info.items()"
   ]
  },
  {
   "cell_type": "code",
   "execution_count": 488,
   "id": "9264d2e4",
   "metadata": {},
   "outputs": [
    {
     "name": "stdout",
     "output_type": "stream",
     "text": [
      "day  ====>  Monday\n",
      "year  ====>  2022\n",
      "month  ====>  May\n",
      "tech  ====>  Python\n",
      "location  ====>  Gurgoan\n",
      "Manager  ====>  Levin Lenus\n",
      "Salary  ====>  1000\n"
     ]
    }
   ],
   "source": [
    "for k in info.keys():\n",
    "    print(k +\"  ====>  \"+str(info[k]))"
   ]
  },
  {
   "cell_type": "code",
   "execution_count": 489,
   "id": "b94c3c4d",
   "metadata": {},
   "outputs": [
    {
     "name": "stdout",
     "output_type": "stream",
     "text": [
      "day ---> Monday\n",
      "year ---> 2022\n",
      "month ---> May\n",
      "tech ---> Python\n",
      "location ---> Gurgoan\n",
      "Manager ---> Levin Lenus\n",
      "Salary ---> 1000\n"
     ]
    }
   ],
   "source": [
    "for k, v in info.items():\n",
    "    print(k +' ---> '+ str(v))"
   ]
  },
  {
   "cell_type": "code",
   "execution_count": 496,
   "id": "3ff29b08",
   "metadata": {},
   "outputs": [],
   "source": [
    "emp_info=['name','age','exp','sal','location']\n",
    "emp_dict=dict.fromkeys(emp_info,'NA')"
   ]
  },
  {
   "cell_type": "code",
   "execution_count": 497,
   "id": "74f2fd48",
   "metadata": {},
   "outputs": [
    {
     "data": {
      "text/plain": [
       "{'name': 'NA', 'age': 'NA', 'exp': 'NA', 'sal': 'NA', 'location': 'NA'}"
      ]
     },
     "execution_count": 497,
     "metadata": {},
     "output_type": "execute_result"
    }
   ],
   "source": [
    "emp_dict"
   ]
  },
  {
   "cell_type": "code",
   "execution_count": 499,
   "id": "bc837ec6",
   "metadata": {},
   "outputs": [
    {
     "name": "stdout",
     "output_type": "stream",
     "text": [
      "['__class__', '__contains__', '__delattr__', '__delitem__', '__dir__', '__doc__', '__eq__', '__format__', '__ge__', '__getattribute__', '__getitem__', '__gt__', '__hash__', '__init__', '__init_subclass__', '__iter__', '__le__', '__len__', '__lt__', '__ne__', '__new__', '__reduce__', '__reduce_ex__', '__repr__', '__reversed__', '__setattr__', '__setitem__', '__sizeof__', '__str__', '__subclasshook__', 'clear', 'copy', 'fromkeys', 'get', 'items', 'keys', 'pop', 'popitem', 'setdefault', 'update', 'values']\n"
     ]
    }
   ],
   "source": [
    "print(dir(emp_dict))"
   ]
  },
  {
   "cell_type": "code",
   "execution_count": 500,
   "id": "956e855b",
   "metadata": {},
   "outputs": [],
   "source": [
    "data={1,2,3,4,3,2,2,1,3,5,3,2,1,3,4,5,6,7,7,8,9,10,3,2,1,7,8,9,6,5}"
   ]
  },
  {
   "cell_type": "code",
   "execution_count": 501,
   "id": "d322c58d",
   "metadata": {},
   "outputs": [
    {
     "data": {
      "text/plain": [
       "{1, 2, 3, 4, 5, 6, 7, 8, 9, 10}"
      ]
     },
     "execution_count": 501,
     "metadata": {},
     "output_type": "execute_result"
    }
   ],
   "source": [
    "data"
   ]
  },
  {
   "cell_type": "code",
   "execution_count": 502,
   "id": "e5af77b7",
   "metadata": {},
   "outputs": [],
   "source": [
    "data.add(10)"
   ]
  },
  {
   "cell_type": "code",
   "execution_count": 503,
   "id": "2fcc7df2",
   "metadata": {},
   "outputs": [
    {
     "data": {
      "text/plain": [
       "{1, 2, 3, 4, 5, 6, 7, 8, 9, 10}"
      ]
     },
     "execution_count": 503,
     "metadata": {},
     "output_type": "execute_result"
    }
   ],
   "source": [
    "data"
   ]
  },
  {
   "cell_type": "code",
   "execution_count": 505,
   "id": "d7fa5196",
   "metadata": {},
   "outputs": [],
   "source": [
    "odds={1,3,5,7,9}\n",
    "even={2,4,6,8,10}\n",
    "composite={1,2,3,5,6,7,8}\n",
    "prime={1,3,5,7}"
   ]
  },
  {
   "cell_type": "code",
   "execution_count": 506,
   "id": "02e06517",
   "metadata": {},
   "outputs": [
    {
     "data": {
      "text/plain": [
       "{1, 2, 3, 4, 5, 6, 7, 8, 9, 10}"
      ]
     },
     "execution_count": 506,
     "metadata": {},
     "output_type": "execute_result"
    }
   ],
   "source": [
    "odds.union(even)"
   ]
  },
  {
   "cell_type": "code",
   "execution_count": 507,
   "id": "922f4460",
   "metadata": {},
   "outputs": [
    {
     "data": {
      "text/plain": [
       "{1, 2, 3, 4, 5, 6, 7, 8, 9, 10}"
      ]
     },
     "execution_count": 507,
     "metadata": {},
     "output_type": "execute_result"
    }
   ],
   "source": [
    "even.union(odds)"
   ]
  },
  {
   "cell_type": "code",
   "execution_count": 508,
   "id": "5131f973",
   "metadata": {},
   "outputs": [
    {
     "data": {
      "text/plain": [
       "{1, 3, 5, 7}"
      ]
     },
     "execution_count": 508,
     "metadata": {},
     "output_type": "execute_result"
    }
   ],
   "source": [
    "composite.intersection(odds)"
   ]
  },
  {
   "cell_type": "code",
   "execution_count": 509,
   "id": "3ac3d42d",
   "metadata": {},
   "outputs": [
    {
     "data": {
      "text/plain": [
       "{1, 3, 5, 7}"
      ]
     },
     "execution_count": 509,
     "metadata": {},
     "output_type": "execute_result"
    }
   ],
   "source": [
    "odds.intersection(composite)"
   ]
  },
  {
   "cell_type": "code",
   "execution_count": 510,
   "id": "bf59ce3a",
   "metadata": {},
   "outputs": [
    {
     "data": {
      "text/plain": [
       "{2, 6, 8}"
      ]
     },
     "execution_count": 510,
     "metadata": {},
     "output_type": "execute_result"
    }
   ],
   "source": [
    "composite.difference(odds)"
   ]
  },
  {
   "cell_type": "code",
   "execution_count": 511,
   "id": "85f8e3a6",
   "metadata": {},
   "outputs": [
    {
     "data": {
      "text/plain": [
       "{9}"
      ]
     },
     "execution_count": 511,
     "metadata": {},
     "output_type": "execute_result"
    }
   ],
   "source": [
    "odds.difference(composite)"
   ]
  },
  {
   "cell_type": "code",
   "execution_count": 512,
   "id": "4122c59d",
   "metadata": {},
   "outputs": [],
   "source": [
    "mylist=[22,11,33,44,55,44,33,22,11,66,11,22]"
   ]
  },
  {
   "cell_type": "code",
   "execution_count": 513,
   "id": "fa2731b6",
   "metadata": {},
   "outputs": [
    {
     "data": {
      "text/plain": [
       "[22, 11, 33, 44, 55, 44, 33, 22, 11, 66, 11, 22]"
      ]
     },
     "execution_count": 513,
     "metadata": {},
     "output_type": "execute_result"
    }
   ],
   "source": [
    "mylist"
   ]
  },
  {
   "cell_type": "code",
   "execution_count": 515,
   "id": "b5136903",
   "metadata": {},
   "outputs": [
    {
     "data": {
      "text/plain": [
       "[33, 66, 11, 44, 22, 55]"
      ]
     },
     "execution_count": 515,
     "metadata": {},
     "output_type": "execute_result"
    }
   ],
   "source": [
    "list(set(mylist))"
   ]
  },
  {
   "cell_type": "code",
   "execution_count": 519,
   "id": "993213ca",
   "metadata": {},
   "outputs": [
    {
     "name": "stdout",
     "output_type": "stream",
     "text": [
      "Age before the function call : 37\n",
      "Age inside the fucntion is : 100\n",
      "Age post the function call: 100\n"
     ]
    }
   ],
   "source": [
    "age=37   #global variable\n",
    "\n",
    "def myfunction():\n",
    "    #age=100   #local variable\n",
    "    global age\n",
    "    age=100\n",
    "    print('Age inside the fucntion is :',age)  \n",
    "\n",
    "print('Age before the function call :', age) \n",
    "myfunction()\n",
    "print('Age post the function call:', age) "
   ]
  },
  {
   "cell_type": "code",
   "execution_count": null,
   "id": "df957fef",
   "metadata": {},
   "outputs": [],
   "source": []
  }
 ],
 "metadata": {
  "kernelspec": {
   "display_name": "Python 3 (ipykernel)",
   "language": "python",
   "name": "python3"
  },
  "language_info": {
   "codemirror_mode": {
    "name": "ipython",
    "version": 3
   },
   "file_extension": ".py",
   "mimetype": "text/x-python",
   "name": "python",
   "nbconvert_exporter": "python",
   "pygments_lexer": "ipython3",
   "version": "3.8.7"
  }
 },
 "nbformat": 4,
 "nbformat_minor": 5
}
