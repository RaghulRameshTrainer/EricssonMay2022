{
 "cells": [
  {
   "cell_type": "code",
   "execution_count": 1,
   "id": "d3ce6ca7",
   "metadata": {
    "collapsed": true
   },
   "outputs": [
    {
     "ename": "SyntaxError",
     "evalue": "invalid syntax (2852461448.py, line 2)",
     "output_type": "error",
     "traceback": [
      "\u001b[1;36m  Input \u001b[1;32mIn [1]\u001b[1;36m\u001b[0m\n\u001b[1;33m    Data analytics (AIML,DL,NLP) (2010+)\u001b[0m\n\u001b[1;37m         ^\u001b[0m\n\u001b[1;31mSyntaxError\u001b[0m\u001b[1;31m:\u001b[0m invalid syntax\n"
     ]
    }
   ],
   "source": [
    "'''\n",
    "Automation\n",
    "Data analytics (AIML,DL,NLP) (2010+)\n",
    "Data Engineering (Hadoop, Spark)\n",
    "IOT\n",
    "Cloud Services (AWS, GCP, AZURE)\n",
    "DevOps ( GitHub, Docker...)\n",
    "Web Devlopment (Django, Flask)\n",
    "\n",
    "PYTHON IS\n",
    "   Easy to learn\n",
    "   Easy to understand, work ,manage, maintain, debug\n",
    "''''''"
   ]
  },
  {
   "cell_type": "markdown",
   "id": "63ee229e",
   "metadata": {},
   "source": [
    "# Conditional Stemenets"
   ]
  },
  {
   "cell_type": "code",
   "execution_count": null,
   "id": "801e6618",
   "metadata": {},
   "outputs": [],
   "source": [
    "'''\n",
    "Syntax\n",
    "\n",
    "if (condition)\n",
    "{\n",
    "    statement1\n",
    "    starement2\n",
    "    .\n",
    "    .\n",
    "    .\n",
    "    statementn\n",
    "}\n",
    "else\n",
    "{\n",
    "    false statement\n",
    "}\n",
    "\n",
    "\n",
    "if condition:\n",
    "    statement1\n",
    "    statement2\n",
    "    .\n",
    "    .\n",
    "    .\n",
    "    statementn\n",
    "else:\n",
    "    false statements\n",
    " '''   "
   ]
  },
  {
   "cell_type": "code",
   "execution_count": 2,
   "id": "dad678da",
   "metadata": {},
   "outputs": [
    {
     "name": "stdout",
     "output_type": "stream",
     "text": [
      "x is 10\n"
     ]
    }
   ],
   "source": [
    "x=10\n",
    "\n",
    "if x==10:\n",
    "    print(\"x is 10\")\n",
    "else:\n",
    "    print(\"The value of x has been changed\")"
   ]
  },
  {
   "cell_type": "code",
   "execution_count": 7,
   "id": "f4f5b11a",
   "metadata": {},
   "outputs": [
    {
     "name": "stdout",
     "output_type": "stream",
     "text": [
      "it is negative value!\n"
     ]
    }
   ],
   "source": [
    "x=-10\n",
    "\n",
    "if x==10:\n",
    "    print(\"x is 10\")\n",
    "elif x==100:\n",
    "    print(\"x is 100\")\n",
    "elif x<0:\n",
    "    print(\"it is negative value!\")\n",
    "else:\n",
    "    print(\"The value of x has been changed\")"
   ]
  },
  {
   "cell_type": "code",
   "execution_count": 12,
   "id": "211c649b",
   "metadata": {},
   "outputs": [
    {
     "name": "stdout",
     "output_type": "stream",
     "text": [
      "Enter your name:Raghul Ramesh\n",
      "Name: Raghul Ramesh\n",
      "Enter your age:37\n",
      "Age is : 38\n"
     ]
    }
   ],
   "source": [
    "#input function (scanf)\n",
    "name=input(\"Enter your name:\")\n",
    "print(\"Name:\",name)\n",
    "\n",
    "age=int(input(\"Enter your age:\"))\n",
    "age = age+1\n",
    "print(\"Age is :\",age)"
   ]
  },
  {
   "cell_type": "code",
   "execution_count": 23,
   "id": "0a192ce8",
   "metadata": {},
   "outputs": [
    {
     "name": "stdout",
     "output_type": "stream",
     "text": [
      "Enter your country name:InDiA\n",
      "Enter your age:33\n",
      "You can vote.\n"
     ]
    }
   ],
   "source": [
    "#NESTED IF\n",
    "\n",
    "country=input(\"Enter your country name:\")\n",
    "age=int(input(\"Enter your age:\"))\n",
    "\n",
    "if country.casefold() == \"india\":\n",
    "    if age >= 18:\n",
    "        print(\"You can vote.\")\n",
    "    else:\n",
    "        print(\"You can't vote \")\n",
    "else:\n",
    "    print(\"Please follow your country : {} standard\".format(country))"
   ]
  },
  {
   "cell_type": "code",
   "execution_count": 31,
   "id": "9908c8f8",
   "metadata": {},
   "outputs": [
    {
     "name": "stdout",
     "output_type": "stream",
     "text": [
      "x and y are positive value and x is smaller than y \n"
     ]
    }
   ],
   "source": [
    "x=10\n",
    "y=20\n",
    "res=x-y\n",
    "if x>0 and y>0 and res < 0:\n",
    "    print(\"x and y are positive value and x is smaller than y \".format(x,y))\n",
    "elif x>0 or y>0:\n",
    "    print(\"either x or y is greater than zero. {},{}\".format(x,y))\n",
    "else:\n",
    "    print(\"Both x and y are negative \",(x,y))"
   ]
  },
  {
   "cell_type": "code",
   "execution_count": null,
   "id": "40789df2",
   "metadata": {},
   "outputs": [],
   "source": []
  }
 ],
 "metadata": {
  "kernelspec": {
   "display_name": "Python 3 (ipykernel)",
   "language": "python",
   "name": "python3"
  },
  "language_info": {
   "codemirror_mode": {
    "name": "ipython",
    "version": 3
   },
   "file_extension": ".py",
   "mimetype": "text/x-python",
   "name": "python",
   "nbconvert_exporter": "python",
   "pygments_lexer": "ipython3",
   "version": "3.8.7"
  }
 },
 "nbformat": 4,
 "nbformat_minor": 5
}
